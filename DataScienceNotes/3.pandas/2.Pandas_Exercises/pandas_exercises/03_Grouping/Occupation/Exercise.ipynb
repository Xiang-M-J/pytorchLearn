{
 "cells": [
  {
   "cell_type": "markdown",
   "metadata": {},
   "source": [
    "# Occupation"
   ]
  },
  {
   "cell_type": "markdown",
   "metadata": {},
   "source": [
    "### Introduction:\n",
    "\n",
    "Special thanks to: https://github.com/justmarkham for sharing the dataset and materials.\n",
    "\n",
    "### Step 1. Import the necessary libraries"
   ]
  },
  {
   "cell_type": "code",
   "execution_count": 2,
   "outputs": [],
   "source": [
    "import pandas as pd"
   ],
   "metadata": {
    "collapsed": false,
    "pycharm": {
     "name": "#%%\n"
    }
   }
  },
  {
   "cell_type": "markdown",
   "metadata": {},
   "source": [
    "### Step 2. Import the dataset from this [address](https://raw.githubusercontent.com/justmarkham/DAT8/master/data/u.user). "
   ]
  },
  {
   "cell_type": "markdown",
   "metadata": {},
   "source": [
    "### Step 3. Assign it to a variable called users."
   ]
  },
  {
   "cell_type": "code",
   "execution_count": 3,
   "metadata": {
    "collapsed": false
   },
   "outputs": [
    {
     "name": "stdout",
     "output_type": "stream",
     "text": [
      "     user_id  age gender     occupation zip_code\n",
      "0          1   24      M     technician    85711\n",
      "1          2   53      F          other    94043\n",
      "2          3   23      M         writer    32067\n",
      "3          4   24      M     technician    43537\n",
      "4          5   33      F          other    15213\n",
      "..       ...  ...    ...            ...      ...\n",
      "938      939   26      F        student    33319\n",
      "939      940   32      M  administrator    02215\n",
      "940      941   20      M        student    97229\n",
      "941      942   48      F      librarian    78209\n",
      "942      943   22      M        student    77841\n",
      "\n",
      "[943 rows x 5 columns]\n"
     ]
    }
   ],
   "source": [
    "user = pd.read_csv('u.user', sep='|')\n",
    "print(user)"
   ]
  },
  {
   "cell_type": "markdown",
   "metadata": {},
   "source": [
    "### Step 4. Discover what is the mean age per occupation"
   ]
  },
  {
   "cell_type": "code",
   "execution_count": 4,
   "metadata": {
    "collapsed": false
   },
   "outputs": [
    {
     "data": {
      "text/plain": "                  user_id        age\noccupation                          \nadministrator  430.949367  38.746835\nartist         451.892857  31.392857\ndoctor         533.714286  43.571429\neducator       466.905263  42.010526\nengineer       456.328358  36.388060\nentertainment  398.000000  29.222222\nexecutive      422.312500  38.718750\nhealthcare     501.437500  41.562500\nhomemaker      443.000000  32.571429\nlawyer         359.083333  36.750000\nlibrarian      486.588235  40.000000\nmarketing      437.807692  37.615385\nnone           368.666667  26.555556\nother          542.733333  34.523810\nprogrammer     435.530303  33.121212\nretired        515.714286  63.071429\nsalesman       494.916667  35.666667\nscientist      465.129032  35.548387\nstudent        484.954082  22.081633\ntechnician     497.629630  33.148148\nwriter         495.711111  36.311111",
      "text/html": "<div>\n<style scoped>\n    .dataframe tbody tr th:only-of-type {\n        vertical-align: middle;\n    }\n\n    .dataframe tbody tr th {\n        vertical-align: top;\n    }\n\n    .dataframe thead th {\n        text-align: right;\n    }\n</style>\n<table border=\"1\" class=\"dataframe\">\n  <thead>\n    <tr style=\"text-align: right;\">\n      <th></th>\n      <th>user_id</th>\n      <th>age</th>\n    </tr>\n    <tr>\n      <th>occupation</th>\n      <th></th>\n      <th></th>\n    </tr>\n  </thead>\n  <tbody>\n    <tr>\n      <th>administrator</th>\n      <td>430.949367</td>\n      <td>38.746835</td>\n    </tr>\n    <tr>\n      <th>artist</th>\n      <td>451.892857</td>\n      <td>31.392857</td>\n    </tr>\n    <tr>\n      <th>doctor</th>\n      <td>533.714286</td>\n      <td>43.571429</td>\n    </tr>\n    <tr>\n      <th>educator</th>\n      <td>466.905263</td>\n      <td>42.010526</td>\n    </tr>\n    <tr>\n      <th>engineer</th>\n      <td>456.328358</td>\n      <td>36.388060</td>\n    </tr>\n    <tr>\n      <th>entertainment</th>\n      <td>398.000000</td>\n      <td>29.222222</td>\n    </tr>\n    <tr>\n      <th>executive</th>\n      <td>422.312500</td>\n      <td>38.718750</td>\n    </tr>\n    <tr>\n      <th>healthcare</th>\n      <td>501.437500</td>\n      <td>41.562500</td>\n    </tr>\n    <tr>\n      <th>homemaker</th>\n      <td>443.000000</td>\n      <td>32.571429</td>\n    </tr>\n    <tr>\n      <th>lawyer</th>\n      <td>359.083333</td>\n      <td>36.750000</td>\n    </tr>\n    <tr>\n      <th>librarian</th>\n      <td>486.588235</td>\n      <td>40.000000</td>\n    </tr>\n    <tr>\n      <th>marketing</th>\n      <td>437.807692</td>\n      <td>37.615385</td>\n    </tr>\n    <tr>\n      <th>none</th>\n      <td>368.666667</td>\n      <td>26.555556</td>\n    </tr>\n    <tr>\n      <th>other</th>\n      <td>542.733333</td>\n      <td>34.523810</td>\n    </tr>\n    <tr>\n      <th>programmer</th>\n      <td>435.530303</td>\n      <td>33.121212</td>\n    </tr>\n    <tr>\n      <th>retired</th>\n      <td>515.714286</td>\n      <td>63.071429</td>\n    </tr>\n    <tr>\n      <th>salesman</th>\n      <td>494.916667</td>\n      <td>35.666667</td>\n    </tr>\n    <tr>\n      <th>scientist</th>\n      <td>465.129032</td>\n      <td>35.548387</td>\n    </tr>\n    <tr>\n      <th>student</th>\n      <td>484.954082</td>\n      <td>22.081633</td>\n    </tr>\n    <tr>\n      <th>technician</th>\n      <td>497.629630</td>\n      <td>33.148148</td>\n    </tr>\n    <tr>\n      <th>writer</th>\n      <td>495.711111</td>\n      <td>36.311111</td>\n    </tr>\n  </tbody>\n</table>\n</div>"
     },
     "execution_count": 4,
     "metadata": {},
     "output_type": "execute_result"
    }
   ],
   "source": [
    "user.groupby('occupation').mean()"
   ]
  },
  {
   "cell_type": "markdown",
   "metadata": {},
   "source": [
    "### Step 5. Discover the Male ratio per occupation and sort it from the most to the least"
   ]
  },
  {
   "cell_type": "code",
   "execution_count": 5,
   "metadata": {
    "collapsed": false
   },
   "outputs": [
    {
     "data": {
      "text/plain": "doctor           100.000000\nengineer          97.014925\ntechnician        96.296296\nretired           92.857143\nprogrammer        90.909091\nexecutive         90.625000\nscientist         90.322581\nentertainment     88.888889\nlawyer            83.333333\nsalesman          75.000000\neducator          72.631579\nstudent           69.387755\nother             65.714286\nmarketing         61.538462\nwriter            57.777778\nnone              55.555556\nadministrator     54.430380\nartist            53.571429\nlibrarian         43.137255\nhealthcare        31.250000\nhomemaker         14.285714\ndtype: float64"
     },
     "execution_count": 5,
     "metadata": {},
     "output_type": "execute_result"
    }
   ],
   "source": [
    "def gender_to_numeric(x):\n",
    "    if x == 'M':\n",
    "        return 1\n",
    "    if x == 'F':\n",
    "        return 0\n",
    "\n",
    "# apply the function to the gender column and create a new column\n",
    "user['gender_n'] = user['gender'].apply(gender_to_numeric)\n",
    "\n",
    "\n",
    "a = user.groupby('occupation').gender_n.sum() / user.occupation.value_counts() * 100\n",
    "\n",
    "# sort to the most male\n",
    "a.sort_values(ascending = False)\n"
   ]
  },
  {
   "cell_type": "markdown",
   "metadata": {},
   "source": [
    "### Step 6. For each occupation, calculate the minimum and maximum ages"
   ]
  },
  {
   "cell_type": "code",
   "execution_count": 6,
   "metadata": {
    "collapsed": false
   },
   "outputs": [
    {
     "data": {
      "text/plain": "               user_id  age gender zip_code  gender_n\noccupation                                           \nadministrator        7   21      F    02154         0\nartist              23   19      F    01945         0\ndoctor             138   28      M    47401         1\neducator            13   23      F    01602         0\nengineer            25   22      F    00000         0\nentertainment       16   15      F    01040         0\nexecutive            6   22      F    00000         0\nhealthcare          60   22      F    02154         0\nhomemaker           20   20      F    17331         0\nlawyer              10   21      F    06371         0\nlibrarian           19   23      F    01080         0\nmarketing           46   24      F    01913         0\nnone                57   11      F    21206         0\nother                2   13      F    02110         0\nprogrammer          17   20      F    01331         0\nretired            106   51      F    02903         0\nsalesman           112   18      F    30011         0\nscientist           14   23      F    02113         0\nstudent              9    7      F    01002         0\ntechnician           1   21      F    02139         0\nwriter               3   18      F    08534         0",
      "text/html": "<div>\n<style scoped>\n    .dataframe tbody tr th:only-of-type {\n        vertical-align: middle;\n    }\n\n    .dataframe tbody tr th {\n        vertical-align: top;\n    }\n\n    .dataframe thead th {\n        text-align: right;\n    }\n</style>\n<table border=\"1\" class=\"dataframe\">\n  <thead>\n    <tr style=\"text-align: right;\">\n      <th></th>\n      <th>user_id</th>\n      <th>age</th>\n      <th>gender</th>\n      <th>zip_code</th>\n      <th>gender_n</th>\n    </tr>\n    <tr>\n      <th>occupation</th>\n      <th></th>\n      <th></th>\n      <th></th>\n      <th></th>\n      <th></th>\n    </tr>\n  </thead>\n  <tbody>\n    <tr>\n      <th>administrator</th>\n      <td>7</td>\n      <td>21</td>\n      <td>F</td>\n      <td>02154</td>\n      <td>0</td>\n    </tr>\n    <tr>\n      <th>artist</th>\n      <td>23</td>\n      <td>19</td>\n      <td>F</td>\n      <td>01945</td>\n      <td>0</td>\n    </tr>\n    <tr>\n      <th>doctor</th>\n      <td>138</td>\n      <td>28</td>\n      <td>M</td>\n      <td>47401</td>\n      <td>1</td>\n    </tr>\n    <tr>\n      <th>educator</th>\n      <td>13</td>\n      <td>23</td>\n      <td>F</td>\n      <td>01602</td>\n      <td>0</td>\n    </tr>\n    <tr>\n      <th>engineer</th>\n      <td>25</td>\n      <td>22</td>\n      <td>F</td>\n      <td>00000</td>\n      <td>0</td>\n    </tr>\n    <tr>\n      <th>entertainment</th>\n      <td>16</td>\n      <td>15</td>\n      <td>F</td>\n      <td>01040</td>\n      <td>0</td>\n    </tr>\n    <tr>\n      <th>executive</th>\n      <td>6</td>\n      <td>22</td>\n      <td>F</td>\n      <td>00000</td>\n      <td>0</td>\n    </tr>\n    <tr>\n      <th>healthcare</th>\n      <td>60</td>\n      <td>22</td>\n      <td>F</td>\n      <td>02154</td>\n      <td>0</td>\n    </tr>\n    <tr>\n      <th>homemaker</th>\n      <td>20</td>\n      <td>20</td>\n      <td>F</td>\n      <td>17331</td>\n      <td>0</td>\n    </tr>\n    <tr>\n      <th>lawyer</th>\n      <td>10</td>\n      <td>21</td>\n      <td>F</td>\n      <td>06371</td>\n      <td>0</td>\n    </tr>\n    <tr>\n      <th>librarian</th>\n      <td>19</td>\n      <td>23</td>\n      <td>F</td>\n      <td>01080</td>\n      <td>0</td>\n    </tr>\n    <tr>\n      <th>marketing</th>\n      <td>46</td>\n      <td>24</td>\n      <td>F</td>\n      <td>01913</td>\n      <td>0</td>\n    </tr>\n    <tr>\n      <th>none</th>\n      <td>57</td>\n      <td>11</td>\n      <td>F</td>\n      <td>21206</td>\n      <td>0</td>\n    </tr>\n    <tr>\n      <th>other</th>\n      <td>2</td>\n      <td>13</td>\n      <td>F</td>\n      <td>02110</td>\n      <td>0</td>\n    </tr>\n    <tr>\n      <th>programmer</th>\n      <td>17</td>\n      <td>20</td>\n      <td>F</td>\n      <td>01331</td>\n      <td>0</td>\n    </tr>\n    <tr>\n      <th>retired</th>\n      <td>106</td>\n      <td>51</td>\n      <td>F</td>\n      <td>02903</td>\n      <td>0</td>\n    </tr>\n    <tr>\n      <th>salesman</th>\n      <td>112</td>\n      <td>18</td>\n      <td>F</td>\n      <td>30011</td>\n      <td>0</td>\n    </tr>\n    <tr>\n      <th>scientist</th>\n      <td>14</td>\n      <td>23</td>\n      <td>F</td>\n      <td>02113</td>\n      <td>0</td>\n    </tr>\n    <tr>\n      <th>student</th>\n      <td>9</td>\n      <td>7</td>\n      <td>F</td>\n      <td>01002</td>\n      <td>0</td>\n    </tr>\n    <tr>\n      <th>technician</th>\n      <td>1</td>\n      <td>21</td>\n      <td>F</td>\n      <td>02139</td>\n      <td>0</td>\n    </tr>\n    <tr>\n      <th>writer</th>\n      <td>3</td>\n      <td>18</td>\n      <td>F</td>\n      <td>08534</td>\n      <td>0</td>\n    </tr>\n  </tbody>\n</table>\n</div>"
     },
     "execution_count": 6,
     "metadata": {},
     "output_type": "execute_result"
    }
   ],
   "source": [
    "# user.groupby('occupation').max()\n",
    "# user.groupby('occupation').min()\n",
    "user.groupby('occupation').age.agg(['min', 'max'])"
   ]
  },
  {
   "cell_type": "markdown",
   "metadata": {},
   "source": [
    "### Step 7. For each combination of occupation and gender, calculate the mean age"
   ]
  },
  {
   "cell_type": "code",
   "execution_count": 7,
   "metadata": {
    "collapsed": false
   },
   "outputs": [
    {
     "data": {
      "text/plain": "occupation     gender\nadministrator  F         40.638889\n               M         37.162791\nartist         F         30.307692\n               M         32.333333\ndoctor         M         43.571429\neducator       F         39.115385\n               M         43.101449\nengineer       F         29.500000\n               M         36.600000\nentertainment  F         31.000000\n               M         29.000000\nexecutive      F         44.000000\n               M         38.172414\nhealthcare     F         39.818182\n               M         45.400000\nhomemaker      F         34.166667\n               M         23.000000\nlawyer         F         39.500000\n               M         36.200000\nlibrarian      F         40.000000\n               M         40.000000\nmarketing      F         37.200000\n               M         37.875000\nnone           F         36.500000\n               M         18.600000\nother          F         35.472222\n               M         34.028986\nprogrammer     F         32.166667\n               M         33.216667\nretired        F         70.000000\n               M         62.538462\nsalesman       F         27.000000\n               M         38.555556\nscientist      F         28.333333\n               M         36.321429\nstudent        F         20.750000\n               M         22.669118\ntechnician     F         38.000000\n               M         32.961538\nwriter         F         37.631579\n               M         35.346154\nName: age, dtype: float64"
     },
     "execution_count": 7,
     "metadata": {},
     "output_type": "execute_result"
    }
   ],
   "source": [
    "user.groupby(['occupation','gender']).age.mean()"
   ]
  },
  {
   "cell_type": "markdown",
   "metadata": {},
   "source": [
    "### Step 8.  For each occupation present the percentage of women and men"
   ]
  },
  {
   "cell_type": "code",
   "execution_count": 9,
   "metadata": {
    "collapsed": false
   },
   "outputs": [
    {
     "name": "stdout",
     "output_type": "stream",
     "text": [
      "                      gender\n",
      "occupation    gender        \n",
      "administrator F           36\n",
      "              M           43\n",
      "artist        F           13\n",
      "              M           15\n",
      "doctor        M            7\n",
      "educator      F           26\n",
      "              M           69\n",
      "engineer      F            2\n",
      "              M           65\n",
      "entertainment F            2\n",
      "              M           16\n",
      "executive     F            3\n",
      "              M           29\n",
      "healthcare    F           11\n",
      "              M            5\n",
      "homemaker     F            6\n",
      "              M            1\n",
      "lawyer        F            2\n",
      "              M           10\n",
      "librarian     F           29\n",
      "              M           22\n",
      "marketing     F           10\n",
      "              M           16\n",
      "none          F            4\n",
      "              M            5\n",
      "other         F           36\n",
      "              M           69\n",
      "programmer    F            6\n",
      "              M           60\n",
      "retired       F            1\n",
      "              M           13\n",
      "salesman      F            3\n",
      "              M            9\n",
      "scientist     F            3\n",
      "              M           28\n",
      "student       F           60\n",
      "              M          136\n",
      "technician    F            1\n",
      "              M           26\n",
      "writer        F           19\n",
      "              M           26\n",
      "               user_id  age  gender  zip_code  gender_n\n",
      "occupation                                             \n",
      "administrator       79   79      79        79        79\n",
      "artist              28   28      28        28        28\n",
      "doctor               7    7       7         7         7\n",
      "educator            95   95      95        95        95\n",
      "engineer            67   67      67        67        67\n",
      "entertainment       18   18      18        18        18\n",
      "executive           32   32      32        32        32\n",
      "healthcare          16   16      16        16        16\n",
      "homemaker            7    7       7         7         7\n",
      "lawyer              12   12      12        12        12\n",
      "librarian           51   51      51        51        51\n",
      "marketing           26   26      26        26        26\n",
      "none                 9    9       9         9         9\n",
      "other              105  105     105       105       105\n",
      "programmer          66   66      66        66        66\n",
      "retired             14   14      14        14        14\n",
      "salesman            12   12      12        12        12\n",
      "scientist           31   31      31        31        31\n",
      "student            196  196     196       196       196\n",
      "technician          27   27      27        27        27\n",
      "writer              45   45      45        45        45\n",
      "                      age      gender  gender_n  user_id  zip_code\n",
      "occupation    gender                                              \n",
      "administrator F       NaN   45.569620       NaN      NaN       NaN\n",
      "              M       NaN   54.430380       NaN      NaN       NaN\n",
      "artist        F       NaN   46.428571       NaN      NaN       NaN\n",
      "              M       NaN   53.571429       NaN      NaN       NaN\n",
      "doctor        M       NaN  100.000000       NaN      NaN       NaN\n",
      "educator      F       NaN   27.368421       NaN      NaN       NaN\n",
      "              M       NaN   72.631579       NaN      NaN       NaN\n",
      "engineer      F       NaN    2.985075       NaN      NaN       NaN\n",
      "              M       NaN   97.014925       NaN      NaN       NaN\n",
      "entertainment F       NaN   11.111111       NaN      NaN       NaN\n",
      "              M       NaN   88.888889       NaN      NaN       NaN\n",
      "executive     F       NaN    9.375000       NaN      NaN       NaN\n",
      "              M       NaN   90.625000       NaN      NaN       NaN\n",
      "healthcare    F       NaN   68.750000       NaN      NaN       NaN\n",
      "              M       NaN   31.250000       NaN      NaN       NaN\n",
      "homemaker     F       NaN   85.714286       NaN      NaN       NaN\n",
      "              M       NaN   14.285714       NaN      NaN       NaN\n",
      "lawyer        F       NaN   16.666667       NaN      NaN       NaN\n",
      "              M       NaN   83.333333       NaN      NaN       NaN\n",
      "librarian     F       NaN   56.862745       NaN      NaN       NaN\n",
      "              M       NaN   43.137255       NaN      NaN       NaN\n",
      "marketing     F       NaN   38.461538       NaN      NaN       NaN\n",
      "              M       NaN   61.538462       NaN      NaN       NaN\n",
      "none          F       NaN   44.444444       NaN      NaN       NaN\n",
      "              M       NaN   55.555556       NaN      NaN       NaN\n",
      "other         F       NaN   34.285714       NaN      NaN       NaN\n",
      "              M       NaN   65.714286       NaN      NaN       NaN\n",
      "programmer    F       NaN    9.090909       NaN      NaN       NaN\n",
      "              M       NaN   90.909091       NaN      NaN       NaN\n",
      "retired       F       NaN    7.142857       NaN      NaN       NaN\n",
      "              M       NaN   92.857143       NaN      NaN       NaN\n",
      "salesman      F       NaN   25.000000       NaN      NaN       NaN\n",
      "              M       NaN   75.000000       NaN      NaN       NaN\n",
      "scientist     F       NaN    9.677419       NaN      NaN       NaN\n",
      "              M       NaN   90.322581       NaN      NaN       NaN\n",
      "student       F       NaN   30.612245       NaN      NaN       NaN\n",
      "              M       NaN   69.387755       NaN      NaN       NaN\n",
      "technician    F       NaN    3.703704       NaN      NaN       NaN\n",
      "              M       NaN   96.296296       NaN      NaN       NaN\n",
      "writer        F       NaN   42.222222       NaN      NaN       NaN\n",
      "              M       NaN   57.777778       NaN      NaN       NaN\n"
     ]
    },
    {
     "data": {
      "text/plain": "occupation     gender\nadministrator  F          45.569620\n               M          54.430380\nartist         F          46.428571\n               M          53.571429\ndoctor         M         100.000000\neducator       F          27.368421\n               M          72.631579\nengineer       F           2.985075\n               M          97.014925\nentertainment  F          11.111111\n               M          88.888889\nexecutive      F           9.375000\n               M          90.625000\nhealthcare     F          68.750000\n               M          31.250000\nhomemaker      F          85.714286\n               M          14.285714\nlawyer         F          16.666667\n               M          83.333333\nlibrarian      F          56.862745\n               M          43.137255\nmarketing      F          38.461538\n               M          61.538462\nnone           F          44.444444\n               M          55.555556\nother          F          34.285714\n               M          65.714286\nprogrammer     F           9.090909\n               M          90.909091\nretired        F           7.142857\n               M          92.857143\nsalesman       F          25.000000\n               M          75.000000\nscientist      F           9.677419\n               M          90.322581\nstudent        F          30.612245\n               M          69.387755\ntechnician     F           3.703704\n               M          96.296296\nwriter         F          42.222222\n               M          57.777778\nName: gender, dtype: float64"
     },
     "execution_count": 9,
     "metadata": {},
     "output_type": "execute_result"
    }
   ],
   "source": [
    "# create a data frame and apply count to gender\n",
    "gender_ocup = user.groupby(['occupation', 'gender']).agg({'gender': 'count'})\n",
    "print(gender_ocup)\n",
    "# create a DataFrame and apply count for each occupation\n",
    "occup_count = user.groupby(['occupation']).agg('count')\n",
    "print(occup_count)\n",
    "# divide the gender_ocup per the occup_count and multiply per 100\n",
    "occup_gender = gender_ocup.div(occup_count, level = \"occupation\") * 100\n",
    "print(occup_gender)\n",
    "# present all rows from the 'gender column'\n",
    "occup_gender.loc[: , 'gender']"
   ]
  }
 ],
 "metadata": {
  "kernelspec": {
   "name": "python3",
   "language": "python",
   "display_name": "Python 3 (ipykernel)"
  },
  "language_info": {
   "codemirror_mode": {
    "name": "ipython",
    "version": 2
   },
   "file_extension": ".py",
   "mimetype": "text/x-python",
   "name": "python",
   "nbconvert_exporter": "python",
   "pygments_lexer": "ipython2",
   "version": "2.7.11"
  }
 },
 "nbformat": 4,
 "nbformat_minor": 0
}