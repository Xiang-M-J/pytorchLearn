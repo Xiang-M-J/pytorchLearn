{
 "cells": [
  {
   "cell_type": "markdown",
   "metadata": {},
   "source": [
    "# United States - Crime Rates - 1960 - 2014"
   ]
  },
  {
   "cell_type": "markdown",
   "metadata": {},
   "source": [
    "### Introduction:\n",
    "\n",
    "This time you will create a data \n",
    "\n",
    "Special thanks to: https://github.com/justmarkham for sharing the dataset and materials.\n",
    "\n",
    "### Step 1. Import the necessary libraries"
   ]
  },
  {
   "cell_type": "code",
   "execution_count": 2,
   "metadata": {
    "collapsed": false
   },
   "outputs": [],
   "source": [
    "import pandas as pd"
   ]
  },
  {
   "cell_type": "markdown",
   "metadata": {},
   "source": [
    "### Step 2. Import the dataset from this [address](https://raw.githubusercontent.com/guipsamora/pandas_exercises/master/04_Apply/US_Crime_Rates/US_Crime_Rates_1960_2014.csv). "
   ]
  },
  {
   "cell_type": "markdown",
   "metadata": {},
   "source": [
    "### Step 3. Assign it to a variable called crime."
   ]
  },
  {
   "cell_type": "code",
   "execution_count": 5,
   "metadata": {
    "collapsed": false
   },
   "outputs": [
    {
     "data": {
      "text/plain": "   Year  Population    Total  Violent  Property  Murder  Forcible_Rape  \\\n0  1960   179323175  3384200   288460   3095700    9110          17190   \n1  1961   182992000  3488000   289390   3198600    8740          17220   \n2  1962   185771000  3752200   301510   3450700    8530          17550   \n3  1963   188483000  4109500   316970   3792500    8640          17650   \n4  1964   191141000  4564600   364220   4200400    9360          21420   \n\n   Robbery  Aggravated_assault  Burglary  Larceny_Theft  Vehicle_Theft  \n0   107840              154320    912100        1855400         328200  \n1   106670              156760    949600        1913000         336000  \n2   110860              164570    994300        2089600         366800  \n3   116470              174210   1086400        2297800         408300  \n4   130390              203050   1213200        2514400         472800  ",
      "text/html": "<div>\n<style scoped>\n    .dataframe tbody tr th:only-of-type {\n        vertical-align: middle;\n    }\n\n    .dataframe tbody tr th {\n        vertical-align: top;\n    }\n\n    .dataframe thead th {\n        text-align: right;\n    }\n</style>\n<table border=\"1\" class=\"dataframe\">\n  <thead>\n    <tr style=\"text-align: right;\">\n      <th></th>\n      <th>Year</th>\n      <th>Population</th>\n      <th>Total</th>\n      <th>Violent</th>\n      <th>Property</th>\n      <th>Murder</th>\n      <th>Forcible_Rape</th>\n      <th>Robbery</th>\n      <th>Aggravated_assault</th>\n      <th>Burglary</th>\n      <th>Larceny_Theft</th>\n      <th>Vehicle_Theft</th>\n    </tr>\n  </thead>\n  <tbody>\n    <tr>\n      <th>0</th>\n      <td>1960</td>\n      <td>179323175</td>\n      <td>3384200</td>\n      <td>288460</td>\n      <td>3095700</td>\n      <td>9110</td>\n      <td>17190</td>\n      <td>107840</td>\n      <td>154320</td>\n      <td>912100</td>\n      <td>1855400</td>\n      <td>328200</td>\n    </tr>\n    <tr>\n      <th>1</th>\n      <td>1961</td>\n      <td>182992000</td>\n      <td>3488000</td>\n      <td>289390</td>\n      <td>3198600</td>\n      <td>8740</td>\n      <td>17220</td>\n      <td>106670</td>\n      <td>156760</td>\n      <td>949600</td>\n      <td>1913000</td>\n      <td>336000</td>\n    </tr>\n    <tr>\n      <th>2</th>\n      <td>1962</td>\n      <td>185771000</td>\n      <td>3752200</td>\n      <td>301510</td>\n      <td>3450700</td>\n      <td>8530</td>\n      <td>17550</td>\n      <td>110860</td>\n      <td>164570</td>\n      <td>994300</td>\n      <td>2089600</td>\n      <td>366800</td>\n    </tr>\n    <tr>\n      <th>3</th>\n      <td>1963</td>\n      <td>188483000</td>\n      <td>4109500</td>\n      <td>316970</td>\n      <td>3792500</td>\n      <td>8640</td>\n      <td>17650</td>\n      <td>116470</td>\n      <td>174210</td>\n      <td>1086400</td>\n      <td>2297800</td>\n      <td>408300</td>\n    </tr>\n    <tr>\n      <th>4</th>\n      <td>1964</td>\n      <td>191141000</td>\n      <td>4564600</td>\n      <td>364220</td>\n      <td>4200400</td>\n      <td>9360</td>\n      <td>21420</td>\n      <td>130390</td>\n      <td>203050</td>\n      <td>1213200</td>\n      <td>2514400</td>\n      <td>472800</td>\n    </tr>\n  </tbody>\n</table>\n</div>"
     },
     "execution_count": 5,
     "metadata": {},
     "output_type": "execute_result"
    }
   ],
   "source": [
    "crime = pd.read_csv('US_Crime_Rates_1960_2014.csv')\n",
    "# print(crime)\n",
    "crime.head()"
   ]
  },
  {
   "cell_type": "markdown",
   "metadata": {},
   "source": [
    "### Step 4. What is the type of the columns?"
   ]
  },
  {
   "cell_type": "code",
   "execution_count": 6,
   "metadata": {
    "collapsed": false
   },
   "outputs": [
    {
     "data": {
      "text/plain": "pandas.core.indexes.base.Index"
     },
     "execution_count": 6,
     "metadata": {},
     "output_type": "execute_result"
    }
   ],
   "source": [
    "type(crime.columns)\n"
   ]
  },
  {
   "cell_type": "markdown",
   "metadata": {},
   "source": [
    "##### Have you noticed that the type of Year is int64. But pandas has a different type to work with Time Series. Let's see it now.\n",
    "\n",
    "### Step 5. Convert the type of the column Year to datetime64"
   ]
  },
  {
   "cell_type": "code",
   "execution_count": 7,
   "metadata": {
    "collapsed": false
   },
   "outputs": [
    {
     "name": "stdout",
     "output_type": "stream",
     "text": [
      "<class 'pandas.core.frame.DataFrame'>\n",
      "RangeIndex: 55 entries, 0 to 54\n",
      "Data columns (total 12 columns):\n",
      " #   Column              Non-Null Count  Dtype         \n",
      "---  ------              --------------  -----         \n",
      " 0   Year                55 non-null     datetime64[ns]\n",
      " 1   Population          55 non-null     int64         \n",
      " 2   Total               55 non-null     int64         \n",
      " 3   Violent             55 non-null     int64         \n",
      " 4   Property            55 non-null     int64         \n",
      " 5   Murder              55 non-null     int64         \n",
      " 6   Forcible_Rape       55 non-null     int64         \n",
      " 7   Robbery             55 non-null     int64         \n",
      " 8   Aggravated_assault  55 non-null     int64         \n",
      " 9   Burglary            55 non-null     int64         \n",
      " 10  Larceny_Theft       55 non-null     int64         \n",
      " 11  Vehicle_Theft       55 non-null     int64         \n",
      "dtypes: datetime64[ns](1), int64(11)\n",
      "memory usage: 5.3 KB\n"
     ]
    }
   ],
   "source": [
    "crime.Year = pd.to_datetime(crime.Year, format='%Y')\n",
    "crime.info()\n"
   ]
  },
  {
   "cell_type": "markdown",
   "metadata": {},
   "source": [
    "### Step 6. Set the Year column as the index of the dataframe"
   ]
  },
  {
   "cell_type": "code",
   "execution_count": 8,
   "metadata": {
    "collapsed": false
   },
   "outputs": [
    {
     "data": {
      "text/plain": "        Year  Population    Total  Violent  Property  Murder  Forcible_Rape  \\\n0 1960-01-01   179323175  3384200   288460   3095700    9110          17190   \n1 1961-01-01   182992000  3488000   289390   3198600    8740          17220   \n2 1962-01-01   185771000  3752200   301510   3450700    8530          17550   \n3 1963-01-01   188483000  4109500   316970   3792500    8640          17650   \n4 1964-01-01   191141000  4564600   364220   4200400    9360          21420   \n\n   Robbery  Aggravated_assault  Burglary  Larceny_Theft  Vehicle_Theft  \n0   107840              154320    912100        1855400         328200  \n1   106670              156760    949600        1913000         336000  \n2   110860              164570    994300        2089600         366800  \n3   116470              174210   1086400        2297800         408300  \n4   130390              203050   1213200        2514400         472800  ",
      "text/html": "<div>\n<style scoped>\n    .dataframe tbody tr th:only-of-type {\n        vertical-align: middle;\n    }\n\n    .dataframe tbody tr th {\n        vertical-align: top;\n    }\n\n    .dataframe thead th {\n        text-align: right;\n    }\n</style>\n<table border=\"1\" class=\"dataframe\">\n  <thead>\n    <tr style=\"text-align: right;\">\n      <th></th>\n      <th>Year</th>\n      <th>Population</th>\n      <th>Total</th>\n      <th>Violent</th>\n      <th>Property</th>\n      <th>Murder</th>\n      <th>Forcible_Rape</th>\n      <th>Robbery</th>\n      <th>Aggravated_assault</th>\n      <th>Burglary</th>\n      <th>Larceny_Theft</th>\n      <th>Vehicle_Theft</th>\n    </tr>\n  </thead>\n  <tbody>\n    <tr>\n      <th>0</th>\n      <td>1960-01-01</td>\n      <td>179323175</td>\n      <td>3384200</td>\n      <td>288460</td>\n      <td>3095700</td>\n      <td>9110</td>\n      <td>17190</td>\n      <td>107840</td>\n      <td>154320</td>\n      <td>912100</td>\n      <td>1855400</td>\n      <td>328200</td>\n    </tr>\n    <tr>\n      <th>1</th>\n      <td>1961-01-01</td>\n      <td>182992000</td>\n      <td>3488000</td>\n      <td>289390</td>\n      <td>3198600</td>\n      <td>8740</td>\n      <td>17220</td>\n      <td>106670</td>\n      <td>156760</td>\n      <td>949600</td>\n      <td>1913000</td>\n      <td>336000</td>\n    </tr>\n    <tr>\n      <th>2</th>\n      <td>1962-01-01</td>\n      <td>185771000</td>\n      <td>3752200</td>\n      <td>301510</td>\n      <td>3450700</td>\n      <td>8530</td>\n      <td>17550</td>\n      <td>110860</td>\n      <td>164570</td>\n      <td>994300</td>\n      <td>2089600</td>\n      <td>366800</td>\n    </tr>\n    <tr>\n      <th>3</th>\n      <td>1963-01-01</td>\n      <td>188483000</td>\n      <td>4109500</td>\n      <td>316970</td>\n      <td>3792500</td>\n      <td>8640</td>\n      <td>17650</td>\n      <td>116470</td>\n      <td>174210</td>\n      <td>1086400</td>\n      <td>2297800</td>\n      <td>408300</td>\n    </tr>\n    <tr>\n      <th>4</th>\n      <td>1964-01-01</td>\n      <td>191141000</td>\n      <td>4564600</td>\n      <td>364220</td>\n      <td>4200400</td>\n      <td>9360</td>\n      <td>21420</td>\n      <td>130390</td>\n      <td>203050</td>\n      <td>1213200</td>\n      <td>2514400</td>\n      <td>472800</td>\n    </tr>\n  </tbody>\n</table>\n</div>"
     },
     "execution_count": 8,
     "metadata": {},
     "output_type": "execute_result"
    }
   ],
   "source": [
    "crime.set_index('Year')\n",
    "crime.head()\n"
   ]
  },
  {
   "cell_type": "markdown",
   "metadata": {},
   "source": [
    "### Step 7. Delete the Total column"
   ]
  },
  {
   "cell_type": "code",
   "execution_count": 9,
   "metadata": {
    "collapsed": false
   },
   "outputs": [
    {
     "data": {
      "text/plain": "        Year  Population  Violent  Property  Murder  Forcible_Rape  Robbery  \\\n0 1960-01-01   179323175   288460   3095700    9110          17190   107840   \n1 1961-01-01   182992000   289390   3198600    8740          17220   106670   \n2 1962-01-01   185771000   301510   3450700    8530          17550   110860   \n3 1963-01-01   188483000   316970   3792500    8640          17650   116470   \n4 1964-01-01   191141000   364220   4200400    9360          21420   130390   \n\n   Aggravated_assault  Burglary  Larceny_Theft  Vehicle_Theft  \n0              154320    912100        1855400         328200  \n1              156760    949600        1913000         336000  \n2              164570    994300        2089600         366800  \n3              174210   1086400        2297800         408300  \n4              203050   1213200        2514400         472800  ",
      "text/html": "<div>\n<style scoped>\n    .dataframe tbody tr th:only-of-type {\n        vertical-align: middle;\n    }\n\n    .dataframe tbody tr th {\n        vertical-align: top;\n    }\n\n    .dataframe thead th {\n        text-align: right;\n    }\n</style>\n<table border=\"1\" class=\"dataframe\">\n  <thead>\n    <tr style=\"text-align: right;\">\n      <th></th>\n      <th>Year</th>\n      <th>Population</th>\n      <th>Violent</th>\n      <th>Property</th>\n      <th>Murder</th>\n      <th>Forcible_Rape</th>\n      <th>Robbery</th>\n      <th>Aggravated_assault</th>\n      <th>Burglary</th>\n      <th>Larceny_Theft</th>\n      <th>Vehicle_Theft</th>\n    </tr>\n  </thead>\n  <tbody>\n    <tr>\n      <th>0</th>\n      <td>1960-01-01</td>\n      <td>179323175</td>\n      <td>288460</td>\n      <td>3095700</td>\n      <td>9110</td>\n      <td>17190</td>\n      <td>107840</td>\n      <td>154320</td>\n      <td>912100</td>\n      <td>1855400</td>\n      <td>328200</td>\n    </tr>\n    <tr>\n      <th>1</th>\n      <td>1961-01-01</td>\n      <td>182992000</td>\n      <td>289390</td>\n      <td>3198600</td>\n      <td>8740</td>\n      <td>17220</td>\n      <td>106670</td>\n      <td>156760</td>\n      <td>949600</td>\n      <td>1913000</td>\n      <td>336000</td>\n    </tr>\n    <tr>\n      <th>2</th>\n      <td>1962-01-01</td>\n      <td>185771000</td>\n      <td>301510</td>\n      <td>3450700</td>\n      <td>8530</td>\n      <td>17550</td>\n      <td>110860</td>\n      <td>164570</td>\n      <td>994300</td>\n      <td>2089600</td>\n      <td>366800</td>\n    </tr>\n    <tr>\n      <th>3</th>\n      <td>1963-01-01</td>\n      <td>188483000</td>\n      <td>316970</td>\n      <td>3792500</td>\n      <td>8640</td>\n      <td>17650</td>\n      <td>116470</td>\n      <td>174210</td>\n      <td>1086400</td>\n      <td>2297800</td>\n      <td>408300</td>\n    </tr>\n    <tr>\n      <th>4</th>\n      <td>1964-01-01</td>\n      <td>191141000</td>\n      <td>364220</td>\n      <td>4200400</td>\n      <td>9360</td>\n      <td>21420</td>\n      <td>130390</td>\n      <td>203050</td>\n      <td>1213200</td>\n      <td>2514400</td>\n      <td>472800</td>\n    </tr>\n  </tbody>\n</table>\n</div>"
     },
     "execution_count": 9,
     "metadata": {},
     "output_type": "execute_result"
    }
   ],
   "source": [
    "del crime['Total']\n",
    "crime.head()"
   ]
  },
  {
   "cell_type": "markdown",
   "metadata": {},
   "source": [
    "### Step 8. Group the year by decades and sum the values\n",
    "\n",
    "#### Pay attention to the Population column number, summing this column is a mistake"
   ]
  },
  {
   "cell_type": "code",
   "execution_count": 12,
   "metadata": {
    "collapsed": false,
    "scrolled": true
   },
   "outputs": [
    {
     "ename": "TypeError",
     "evalue": "Only valid with DatetimeIndex, TimedeltaIndex or PeriodIndex, but got an instance of 'RangeIndex'",
     "output_type": "error",
     "traceback": [
      "\u001B[1;31m---------------------------------------------------------------------------\u001B[0m",
      "\u001B[1;31mTypeError\u001B[0m                                 Traceback (most recent call last)",
      "\u001B[1;32m~\\AppData\\Local\\Temp/ipykernel_8212/188763905.py\u001B[0m in \u001B[0;36m<module>\u001B[1;34m\u001B[0m\n\u001B[0;32m      1\u001B[0m \u001B[1;31m# Uses resample to sum each decade\u001B[0m\u001B[1;33m\u001B[0m\u001B[1;33m\u001B[0m\u001B[1;33m\u001B[0m\u001B[0m\n\u001B[1;32m----> 2\u001B[1;33m \u001B[0mcrimes\u001B[0m \u001B[1;33m=\u001B[0m \u001B[0mcrime\u001B[0m\u001B[1;33m.\u001B[0m\u001B[0mresample\u001B[0m\u001B[1;33m(\u001B[0m\u001B[1;34m'10AS'\u001B[0m\u001B[1;33m)\u001B[0m\u001B[1;33m.\u001B[0m\u001B[0msum\u001B[0m\u001B[1;33m(\u001B[0m\u001B[1;33m)\u001B[0m\u001B[1;33m\u001B[0m\u001B[1;33m\u001B[0m\u001B[0m\n\u001B[0m\u001B[0;32m      3\u001B[0m \u001B[1;33m\u001B[0m\u001B[0m\n\u001B[0;32m      4\u001B[0m \u001B[1;31m# Uses resample to get the max value only for the \"Population\" column\u001B[0m\u001B[1;33m\u001B[0m\u001B[1;33m\u001B[0m\u001B[1;33m\u001B[0m\u001B[0m\n\u001B[0;32m      5\u001B[0m \u001B[0mpopulation\u001B[0m \u001B[1;33m=\u001B[0m \u001B[0mcrime\u001B[0m\u001B[1;33m[\u001B[0m\u001B[1;34m'Population'\u001B[0m\u001B[1;33m]\u001B[0m\u001B[1;33m.\u001B[0m\u001B[0mresample\u001B[0m\u001B[1;33m(\u001B[0m\u001B[1;34m'10AS'\u001B[0m\u001B[1;33m)\u001B[0m\u001B[1;33m.\u001B[0m\u001B[0mmax\u001B[0m\u001B[1;33m(\u001B[0m\u001B[1;33m)\u001B[0m\u001B[1;33m\u001B[0m\u001B[1;33m\u001B[0m\u001B[0m\n",
      "\u001B[1;32md:\\pyprojectin\\pytorch\\venv\\lib\\site-packages\\pandas\\core\\frame.py\u001B[0m in \u001B[0;36mresample\u001B[1;34m(self, rule, axis, closed, label, convention, kind, loffset, base, on, level, origin, offset)\u001B[0m\n\u001B[0;32m  10348\u001B[0m         \u001B[0moffset\u001B[0m\u001B[1;33m:\u001B[0m \u001B[0mTimedeltaConvertibleTypes\u001B[0m \u001B[1;33m|\u001B[0m \u001B[1;32mNone\u001B[0m \u001B[1;33m=\u001B[0m \u001B[1;32mNone\u001B[0m\u001B[1;33m,\u001B[0m\u001B[1;33m\u001B[0m\u001B[1;33m\u001B[0m\u001B[0m\n\u001B[0;32m  10349\u001B[0m     ) -> Resampler:\n\u001B[1;32m> 10350\u001B[1;33m         return super().resample(\n\u001B[0m\u001B[0;32m  10351\u001B[0m             \u001B[0mrule\u001B[0m\u001B[1;33m=\u001B[0m\u001B[0mrule\u001B[0m\u001B[1;33m,\u001B[0m\u001B[1;33m\u001B[0m\u001B[1;33m\u001B[0m\u001B[0m\n\u001B[0;32m  10352\u001B[0m             \u001B[0maxis\u001B[0m\u001B[1;33m=\u001B[0m\u001B[0maxis\u001B[0m\u001B[1;33m,\u001B[0m\u001B[1;33m\u001B[0m\u001B[1;33m\u001B[0m\u001B[0m\n",
      "\u001B[1;32md:\\pyprojectin\\pytorch\\venv\\lib\\site-packages\\pandas\\core\\generic.py\u001B[0m in \u001B[0;36mresample\u001B[1;34m(self, rule, axis, closed, label, convention, kind, loffset, base, on, level, origin, offset)\u001B[0m\n\u001B[0;32m   8124\u001B[0m \u001B[1;33m\u001B[0m\u001B[0m\n\u001B[0;32m   8125\u001B[0m         \u001B[0maxis\u001B[0m \u001B[1;33m=\u001B[0m \u001B[0mself\u001B[0m\u001B[1;33m.\u001B[0m\u001B[0m_get_axis_number\u001B[0m\u001B[1;33m(\u001B[0m\u001B[0maxis\u001B[0m\u001B[1;33m)\u001B[0m\u001B[1;33m\u001B[0m\u001B[1;33m\u001B[0m\u001B[0m\n\u001B[1;32m-> 8126\u001B[1;33m         return get_resampler(\n\u001B[0m\u001B[0;32m   8127\u001B[0m             \u001B[0mself\u001B[0m\u001B[1;33m,\u001B[0m\u001B[1;33m\u001B[0m\u001B[1;33m\u001B[0m\u001B[0m\n\u001B[0;32m   8128\u001B[0m             \u001B[0mfreq\u001B[0m\u001B[1;33m=\u001B[0m\u001B[0mrule\u001B[0m\u001B[1;33m,\u001B[0m\u001B[1;33m\u001B[0m\u001B[1;33m\u001B[0m\u001B[0m\n",
      "\u001B[1;32md:\\pyprojectin\\pytorch\\venv\\lib\\site-packages\\pandas\\core\\resample.py\u001B[0m in \u001B[0;36mget_resampler\u001B[1;34m(obj, kind, **kwds)\u001B[0m\n\u001B[0;32m   1380\u001B[0m     \"\"\"\n\u001B[0;32m   1381\u001B[0m     \u001B[0mtg\u001B[0m \u001B[1;33m=\u001B[0m \u001B[0mTimeGrouper\u001B[0m\u001B[1;33m(\u001B[0m\u001B[1;33m**\u001B[0m\u001B[0mkwds\u001B[0m\u001B[1;33m)\u001B[0m\u001B[1;33m\u001B[0m\u001B[1;33m\u001B[0m\u001B[0m\n\u001B[1;32m-> 1382\u001B[1;33m     \u001B[1;32mreturn\u001B[0m \u001B[0mtg\u001B[0m\u001B[1;33m.\u001B[0m\u001B[0m_get_resampler\u001B[0m\u001B[1;33m(\u001B[0m\u001B[0mobj\u001B[0m\u001B[1;33m,\u001B[0m \u001B[0mkind\u001B[0m\u001B[1;33m=\u001B[0m\u001B[0mkind\u001B[0m\u001B[1;33m)\u001B[0m\u001B[1;33m\u001B[0m\u001B[1;33m\u001B[0m\u001B[0m\n\u001B[0m\u001B[0;32m   1383\u001B[0m \u001B[1;33m\u001B[0m\u001B[0m\n\u001B[0;32m   1384\u001B[0m \u001B[1;33m\u001B[0m\u001B[0m\n",
      "\u001B[1;32md:\\pyprojectin\\pytorch\\venv\\lib\\site-packages\\pandas\\core\\resample.py\u001B[0m in \u001B[0;36m_get_resampler\u001B[1;34m(self, obj, kind)\u001B[0m\n\u001B[0;32m   1556\u001B[0m             \u001B[1;32mreturn\u001B[0m \u001B[0mTimedeltaIndexResampler\u001B[0m\u001B[1;33m(\u001B[0m\u001B[0mobj\u001B[0m\u001B[1;33m,\u001B[0m \u001B[0mgroupby\u001B[0m\u001B[1;33m=\u001B[0m\u001B[0mself\u001B[0m\u001B[1;33m,\u001B[0m \u001B[0maxis\u001B[0m\u001B[1;33m=\u001B[0m\u001B[0mself\u001B[0m\u001B[1;33m.\u001B[0m\u001B[0maxis\u001B[0m\u001B[1;33m)\u001B[0m\u001B[1;33m\u001B[0m\u001B[1;33m\u001B[0m\u001B[0m\n\u001B[0;32m   1557\u001B[0m \u001B[1;33m\u001B[0m\u001B[0m\n\u001B[1;32m-> 1558\u001B[1;33m         raise TypeError(\n\u001B[0m\u001B[0;32m   1559\u001B[0m             \u001B[1;34m\"Only valid with DatetimeIndex, \"\u001B[0m\u001B[1;33m\u001B[0m\u001B[1;33m\u001B[0m\u001B[0m\n\u001B[0;32m   1560\u001B[0m             \u001B[1;34m\"TimedeltaIndex or PeriodIndex, \"\u001B[0m\u001B[1;33m\u001B[0m\u001B[1;33m\u001B[0m\u001B[0m\n",
      "\u001B[1;31mTypeError\u001B[0m: Only valid with DatetimeIndex, TimedeltaIndex or PeriodIndex, but got an instance of 'RangeIndex'"
     ]
    }
   ],
   "source": [
    "# Uses resample to sum each decade\n",
    "crimes = crime.resample('10AS').sum()\n",
    "\n",
    "# Uses resample to get the max value only for the \"Population\" column\n",
    "population = crime['Population'].resample('10AS').max()\n",
    "\n",
    "# Updating the \"Population\" column\n",
    "crimes['Population'] = population\n",
    "\n",
    "crimes\n"
   ]
  },
  {
   "cell_type": "markdown",
   "metadata": {},
   "source": [
    "### Step 9. What is the mos dangerous decade to live in the US?"
   ]
  },
  {
   "cell_type": "code",
   "execution_count": 11,
   "metadata": {
    "collapsed": false
   },
   "outputs": [
    {
     "ename": "NameError",
     "evalue": "name 'crimes' is not defined",
     "output_type": "error",
     "traceback": [
      "\u001B[1;31m---------------------------------------------------------------------------\u001B[0m",
      "\u001B[1;31mNameError\u001B[0m                                 Traceback (most recent call last)",
      "\u001B[1;32m~\\AppData\\Local\\Temp/ipykernel_8212/366425585.py\u001B[0m in \u001B[0;36m<module>\u001B[1;34m\u001B[0m\n\u001B[1;32m----> 1\u001B[1;33m \u001B[0mcrimes\u001B[0m\u001B[1;33m.\u001B[0m\u001B[0midxmax\u001B[0m\u001B[1;33m(\u001B[0m\u001B[1;36m0\u001B[0m\u001B[1;33m)\u001B[0m\u001B[1;33m\u001B[0m\u001B[1;33m\u001B[0m\u001B[0m\n\u001B[0m",
      "\u001B[1;31mNameError\u001B[0m: name 'crimes' is not defined"
     ]
    }
   ],
   "source": [
    "crimes.idxmax(0)"
   ]
  }
 ],
 "metadata": {
  "anaconda-cloud": {},
  "kernelspec": {
   "name": "python3",
   "language": "python",
   "display_name": "Python 3 (ipykernel)"
  },
  "language_info": {
   "codemirror_mode": {
    "name": "ipython",
    "version": 2
   },
   "file_extension": ".py",
   "mimetype": "text/x-python",
   "name": "python",
   "nbconvert_exporter": "python",
   "pygments_lexer": "ipython2",
   "version": "2.7.12"
  }
 },
 "nbformat": 4,
 "nbformat_minor": 0
}