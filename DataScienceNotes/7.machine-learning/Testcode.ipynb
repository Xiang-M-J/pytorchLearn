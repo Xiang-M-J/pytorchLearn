{
 "cells": [
  {
   "cell_type": "markdown",
   "source": [
    "# 机器学习个人笔记  TestCode"
   ],
   "metadata": {
    "collapsed": false
   }
  },
  {
   "cell_type": "markdown",
   "source": [
    "1. 正规方程 $$ \\theta = (X^TX)^{-1}X^Ty $$"
   ],
   "metadata": {
    "collapsed": false
   }
  },
  {
   "cell_type": "code",
   "execution_count": 9,
   "outputs": [
    {
     "name": "stdout",
     "output_type": "stream",
     "text": [
      "[-410.18017578    0.67010689 -113.0390625   -62.95556641   -7.37902832]\n"
     ]
    }
   ],
   "source": [
    "import numpy as np\n",
    "X = np.array([[1, 2104, 5,1,45],\n",
    "              [1, 1416, 3,2,40],\n",
    "              [1,1534,3,2,30],\n",
    "              [1, 852, 2,1,36]])\n",
    "Y = np.array([460, 232, 315, 178])\n",
    "\n",
    "# X.T@X  equals X.T.dot(X)\n",
    "result = np.linalg.inv(X.T@X)@X.T@Y\n",
    "print(result)"
   ],
   "metadata": {
    "collapsed": false,
    "pycharm": {
     "name": "#%%\n"
    }
   }
  }
 ],
 "metadata": {
  "kernelspec": {
   "display_name": "Python 3",
   "language": "python",
   "name": "python3"
  },
  "language_info": {
   "codemirror_mode": {
    "name": "ipython",
    "version": 2
   },
   "file_extension": ".py",
   "mimetype": "text/x-python",
   "name": "python",
   "nbconvert_exporter": "python",
   "pygments_lexer": "ipython2",
   "version": "2.7.6"
  }
 },
 "nbformat": 4,
 "nbformat_minor": 0
}