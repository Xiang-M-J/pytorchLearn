{
 "cells": [
  {
   "cell_type": "markdown",
   "metadata": {},
   "source": [
    "# 机器学习练习 5 - 偏差和方差"
   ]
  },
  {
   "cell_type": "markdown",
   "metadata": {},
   "source": [
    "本章代码涵盖了基于Python的解决方案，用于Coursera机器学习课程的第五个编程练习。 请参考[练习文本](ex5.pdf)了解详细的说明和公式。\n",
    "\n",
    "代码修改并注释：黄海广，haiguang2000@qq.com"
   ]
  },
  {
   "cell_type": "code",
   "execution_count": 1,
   "metadata": {
    "collapsed": true
   },
   "outputs": [],
   "source": [
    "import numpy as np\n",
    "import scipy.io as sio\n",
    "import scipy.optimize as opt\n",
    "import pandas as pd\n",
    "import matplotlib.pyplot as plt\n",
    "import seaborn as sns"
   ]
  },
  {
   "cell_type": "code",
   "execution_count": 2,
   "metadata": {
    "collapsed": true
   },
   "outputs": [],
   "source": [
    "def load_data():\n",
    "    \"\"\"for ex5\n",
    "    d['X'] shape = (12, 1)\n",
    "    pandas has trouble taking this 2d ndarray to construct a dataframe, so I ravel\n",
    "    the results\n",
    "    \"\"\"\n",
    "    d = sio.loadmat('ex5data1.mat')\n",
    "    return map(np.ravel, [d['X'], d['y'], d['Xval'], d['yval'], d['Xtest'], d['ytest']])"
   ]
  },
  {
   "cell_type": "code",
   "execution_count": 3,
   "metadata": {
    "collapsed": true
   },
   "outputs": [],
   "source": [
    "X, y, Xval, yval, Xtest, ytest = load_data()"
   ]
  },
  {
   "cell_type": "code",
   "execution_count": 4,
   "metadata": {},
   "outputs": [
    {
     "name": "stderr",
     "output_type": "stream",
     "text": [
      "d:\\pyprojectin\\pytorch\\venv\\lib\\site-packages\\seaborn\\_decorators.py:36: FutureWarning: Pass the following variables as keyword args: x, y. From version 0.12, the only valid positional argument will be `data`, and passing other arguments without an explicit keyword will result in an error or misinterpretation.\n",
      "  warnings.warn(\n"
     ]
    },
    {
     "data": {
      "text/plain": "<Figure size 504x504 with 1 Axes>",
      "image/png": "[encoded data removed]"
     },
     "metadata": {
      "needs_background": "light"
     },
     "output_type": "display_data"
    }
   ],
   "source": [
    "df = pd.DataFrame({'water_level':X, 'flow':y})\n",
    "\n",
    "sns.lmplot('water_level', 'flow', data=df, fit_reg=False, height=7)\n",
    "plt.show()"
   ]
  },
  {
   "cell_type": "code",
   "execution_count": 5,
   "metadata": {
    "collapsed": true
   },
   "outputs": [],
   "source": [
    "X, Xval, Xtest = [np.insert(x.reshape(x.shape[0], 1), 0, np.ones(x.shape[0]), axis=1) for x in (X, Xval, Xtest)]"
   ]
  },
  {
   "cell_type": "markdown",
   "metadata": {},
   "source": [
    "# 代价函数\n",
    "\n",
    "![linear_cost.png](data:image/png;base64,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)"
   ]
  },
  {
   "cell_type": "code",
   "execution_count": 6,
   "metadata": {
    "collapsed": true
   },
   "outputs": [],
   "source": [
    "def cost(theta, X, y):\n",
    "    \"\"\"\n",
    "    X: R(m*n), m records, n features\n",
    "    y: R(m)\n",
    "    theta : R(n), linear regression parameters\n",
    "    \"\"\"\n",
    "    m = X.shape[0]\n",
    "\n",
    "    inner = X @ theta - y  # R(m*1)\n",
    "\n",
    "    # 1*m @ m*1 = 1*1 in matrix multiplication\n",
    "    # but you know numpy didn't do transpose in 1d array, so here is just a\n",
    "    # vector inner product to itselves\n",
    "    square_sum = inner.T @ inner\n",
    "    cost = square_sum / (2 * m)\n",
    "\n",
    "    return cost"
   ]
  },
  {
   "cell_type": "code",
   "execution_count": 7,
   "metadata": {},
   "outputs": [
    {
     "data": {
      "text/plain": "303.9515255535976"
     },
     "execution_count": 7,
     "metadata": {},
     "output_type": "execute_result"
    }
   ],
   "source": [
    "theta = np.ones(X.shape[1])\n",
    "cost(theta, X, y)"
   ]
  },
  {
   "cell_type": "markdown",
   "metadata": {},
   "source": [
    "# 梯度\n",
    "<img style=\"float: left;\" src=\"../img/linear_gradient.png\">"
   ]
  },
  {
   "cell_type": "code",
   "execution_count": 8,
   "metadata": {
    "collapsed": true
   },
   "outputs": [],
   "source": [
    "def gradient(theta, X, y):\n",
    "    m = X.shape[0]\n",
    "\n",
    "    inner = X.T @ (X @ theta - y)  # (m,n).T @ (m, 1) -> (n, 1)\n",
    "\n",
    "    return inner / m"
   ]
  },
  {
   "cell_type": "code",
   "execution_count": 9,
   "metadata": {},
   "outputs": [
    {
     "data": {
      "text/plain": "array([-15.30301567, 598.16741084])"
     },
     "execution_count": 9,
     "metadata": {},
     "output_type": "execute_result"
    }
   ],
   "source": [
    "gradient(theta, X, y)"
   ]
  },
  {
   "cell_type": "markdown",
   "metadata": {},
   "source": [
    "# 正则化梯度\n",
    "<img style=\"float: left;\" src=\"../img/linear_reg_gradient.png\">"
   ]
  },
  {
   "cell_type": "code",
   "execution_count": 10,
   "metadata": {
    "collapsed": true
   },
   "outputs": [],
   "source": [
    "def regularized_gradient(theta, X, y, l=1):\n",
    "    m = X.shape[0]\n",
    "\n",
    "    regularized_term = theta.copy()  # same shape as theta\n",
    "    regularized_term[0] = 0  # don't regularize intercept theta\n",
    "\n",
    "    regularized_term = (l / m) * regularized_term\n",
    "\n",
    "    return gradient(theta, X, y) + regularized_term"
   ]
  },
  {
   "cell_type": "code",
   "execution_count": 11,
   "metadata": {},
   "outputs": [
    {
     "data": {
      "text/plain": "array([-15.30301567, 598.25074417])"
     },
     "execution_count": 11,
     "metadata": {},
     "output_type": "execute_result"
    }
   ],
   "source": [
    "regularized_gradient(theta, X, y)"
   ]
  },
  {
   "cell_type": "markdown",
   "metadata": {},
   "source": [
    "# 拟合数据\n",
    "> 正则化项 $\\lambda=0$"
   ]
  },
  {
   "cell_type": "code",
   "execution_count": 12,
   "metadata": {
    "collapsed": true
   },
   "outputs": [],
   "source": [
    "def linear_regression_np(X, y, l=1):\n",
    "    \"\"\"linear regression\n",
    "    args:\n",
    "        X: feature matrix, (m, n+1) # with incercept x0=1\n",
    "        y: target vector, (m, )\n",
    "        l: lambda constant for regularization\n",
    "\n",
    "    return: trained parameters\n",
    "    \"\"\"\n",
    "    # init theta\n",
    "    theta = np.ones(X.shape[1])\n",
    "\n",
    "    # train it\n",
    "    res = opt.minimize(fun=regularized_cost,\n",
    "                       x0=theta,\n",
    "                       args=(X, y, l),\n",
    "                       method='TNC',\n",
    "                       jac=regularized_gradient,\n",
    "                       options={'disp': True})\n",
    "    return res\n"
   ]
  },
  {
   "cell_type": "code",
   "execution_count": 13,
   "metadata": {
    "collapsed": true
   },
   "outputs": [],
   "source": [
    "def regularized_cost(theta, X, y, l=1):\n",
    "    m = X.shape[0]\n",
    "\n",
    "    regularized_term = (l / (2 * m)) * np.power(theta[1:], 2).sum()\n",
    "\n",
    "    return cost(theta, X, y) + regularized_term"
   ]
  },
  {
   "cell_type": "code",
   "execution_count": 14,
   "metadata": {
    "collapsed": true
   },
   "outputs": [],
   "source": [
    "theta = np.ones(X.shape[0])\n",
    "\n",
    "final_theta = linear_regression_np(X, y, l=0).get('x')"
   ]
  },
  {
   "cell_type": "code",
   "execution_count": 15,
   "metadata": {},
   "outputs": [
    {
     "data": {
      "text/plain": "<Figure size 432x288 with 1 Axes>",
      "image/png": "[encoded data removed]"
     },
     "metadata": {
      "needs_background": "light"
     },
     "output_type": "display_data"
    }
   ],
   "source": [
    "b = final_theta[0] # intercept\n",
    "m = final_theta[1] # slope\n",
    "\n",
    "plt.scatter(X[:,1], y, label=\"Training data\")\n",
    "plt.plot(X[:, 1], X[:, 1]*m + b, label=\"Prediction\")\n",
    "plt.legend(loc=2)\n",
    "plt.show()"
   ]
  },
  {
   "cell_type": "code",
   "execution_count": 16,
   "metadata": {
    "collapsed": true
   },
   "outputs": [],
   "source": [
    "training_cost, cv_cost = [], []"
   ]
  },
  {
   "cell_type": "markdown",
   "metadata": {},
   "source": [
    "1.使用训练集的子集来拟合应模型\n",
    "\n",
    "2.在计算训练代价和交叉验证代价时，没有用正则化\n",
    "\n",
    "3.记住使用相同的训练集子集来计算训练代价"
   ]
  },
  {
   "cell_type": "code",
   "execution_count": 17,
   "metadata": {
    "collapsed": true
   },
   "outputs": [],
   "source": [
    "m = X.shape[0]\n",
    "for i in range(1, m+1):\n",
    "#     print('i={}'.format(i))\n",
    "    res = linear_regression_np(X[:i, :], y[:i], l=0)\n",
    "    \n",
    "    tc = regularized_cost(res.x, X[:i, :], y[:i], l=0)\n",
    "    cv = regularized_cost(res.x, Xval, yval, l=0)\n",
    "#     print('tc={}, cv={}'.format(tc, cv))\n",
    "    \n",
    "    training_cost.append(tc)\n",
    "    cv_cost.append(cv)"
   ]
  },
  {
   "cell_type": "code",
   "execution_count": 18,
   "metadata": {},
   "outputs": [
    {
     "data": {
      "text/plain": "<Figure size 432x288 with 1 Axes>",
      "image/png": "[encoded data removed]"
     },
     "metadata": {
      "needs_background": "light"
     },
     "output_type": "display_data"
    }
   ],
   "source": [
    "plt.plot(np.arange(1, m+1), training_cost, label='training cost')\n",
    "plt.plot(np.arange(1, m+1), cv_cost, label='cv cost')\n",
    "plt.legend(loc=1)\n",
    "plt.show()"
   ]
  },
  {
   "cell_type": "markdown",
   "metadata": {},
   "source": [
    "这个模型拟合不太好, **欠拟合了**"
   ]
  },
  {
   "cell_type": "markdown",
   "metadata": {},
   "source": [
    "# 创建多项式特征"
   ]
  },
  {
   "cell_type": "code",
   "execution_count": 19,
   "metadata": {
    "collapsed": true
   },
   "outputs": [],
   "source": [
    "def prepare_poly_data(*args, power):\n",
    "    \"\"\"\n",
    "    args: keep feeding in X, Xval, or Xtest\n",
    "        will return in the same order\n",
    "    \"\"\"\n",
    "    def prepare(x):\n",
    "        # expand feature\n",
    "        df = poly_features(x, power=power)\n",
    "        # normalization\n",
    "        ndarr = normalize_feature(df).to_numpy()\n",
    "        # add intercept term\n",
    "        # np.insert(ndarr, 0, np.ones(ndarr.shape[0]), axis = 1)\n",
    "        # print(type(ndarr))\n",
    "        # print(ndarr)\n",
    "        # ndarr.insert(0, 'f',np.ones(ndarr.shape[0]))\n",
    "        return np.insert(ndarr, 0, np.ones(ndarr.shape[0]),axis=1)\n",
    "\n",
    "    return [prepare(x) for x in args]"
   ]
  },
  {
   "cell_type": "code",
   "execution_count": 20,
   "metadata": {
    "collapsed": true
   },
   "outputs": [],
   "source": [
    "def poly_features(x, power, as_ndarray=False):\n",
    "    data = {'f{}'.format(i): np.power(x, i) for i in range(1, power + 1)}\n",
    "    df = pd.DataFrame(data)\n",
    "\n",
    "    return df.as_matrix() if as_ndarray else df\n"
   ]
  },
  {
   "cell_type": "code",
   "execution_count": 21,
   "metadata": {
    "collapsed": true
   },
   "outputs": [],
   "source": [
    "X, y, Xval, yval, Xtest, ytest = load_data()"
   ]
  },
  {
   "cell_type": "code",
   "execution_count": 22,
   "metadata": {},
   "outputs": [
    {
     "data": {
      "text/plain": "           f1           f2             f3\n0  -15.936758   253.980260   -4047.621971\n1  -29.152979   849.896197  -24777.006175\n2   36.189549  1309.683430   47396.852168\n3   37.492187  1405.664111   52701.422173\n4  -48.058829  2309.651088 -110999.127750\n5   -8.941458    79.949670    -714.866612\n6   15.307793   234.328523    3587.052500\n7  -34.706266  1204.524887  -41804.560890\n8    1.389154     1.929750       2.680720\n9  -44.383760  1969.918139  -87432.373590\n10   7.013502    49.189211     344.988637\n11  22.762749   518.142738   11794.353058",
      "text/html": "<div>\n<style scoped>\n    .dataframe tbody tr th:only-of-type {\n        vertical-align: middle;\n    }\n\n    .dataframe tbody tr th {\n        vertical-align: top;\n    }\n\n    .dataframe thead th {\n        text-align: right;\n    }\n</style>\n<table border=\"1\" class=\"dataframe\">\n  <thead>\n    <tr style=\"text-align: right;\">\n      <th></th>\n      <th>f1</th>\n      <th>f2</th>\n      <th>f3</th>\n    </tr>\n  </thead>\n  <tbody>\n    <tr>\n      <th>0</th>\n      <td>-15.936758</td>\n      <td>253.980260</td>\n      <td>-4047.621971</td>\n    </tr>\n    <tr>\n      <th>1</th>\n      <td>-29.152979</td>\n      <td>849.896197</td>\n      <td>-24777.006175</td>\n    </tr>\n    <tr>\n      <th>2</th>\n      <td>36.189549</td>\n      <td>1309.683430</td>\n      <td>47396.852168</td>\n    </tr>\n    <tr>\n      <th>3</th>\n      <td>37.492187</td>\n      <td>1405.664111</td>\n      <td>52701.422173</td>\n    </tr>\n    <tr>\n      <th>4</th>\n      <td>-48.058829</td>\n      <td>2309.651088</td>\n      <td>-110999.127750</td>\n    </tr>\n    <tr>\n      <th>5</th>\n      <td>-8.941458</td>\n      <td>79.949670</td>\n      <td>-714.866612</td>\n    </tr>\n    <tr>\n      <th>6</th>\n      <td>15.307793</td>\n      <td>234.328523</td>\n      <td>3587.052500</td>\n    </tr>\n    <tr>\n      <th>7</th>\n      <td>-34.706266</td>\n      <td>1204.524887</td>\n      <td>-41804.560890</td>\n    </tr>\n    <tr>\n      <th>8</th>\n      <td>1.389154</td>\n      <td>1.929750</td>\n      <td>2.680720</td>\n    </tr>\n    <tr>\n      <th>9</th>\n      <td>-44.383760</td>\n      <td>1969.918139</td>\n      <td>-87432.373590</td>\n    </tr>\n    <tr>\n      <th>10</th>\n      <td>7.013502</td>\n      <td>49.189211</td>\n      <td>344.988637</td>\n    </tr>\n    <tr>\n      <th>11</th>\n      <td>22.762749</td>\n      <td>518.142738</td>\n      <td>11794.353058</td>\n    </tr>\n  </tbody>\n</table>\n</div>"
     },
     "execution_count": 22,
     "metadata": {},
     "output_type": "execute_result"
    }
   ],
   "source": [
    "poly_features(X, power=3)"
   ]
  },
  {
   "cell_type": "markdown",
   "metadata": {},
   "source": [
    "# 准备多项式回归数据\n",
    "1. 扩展特征到 8阶,或者你需要的阶数\n",
    "2. 使用 **归一化** 来合并 $x^n$ \n",
    "3. don't forget intercept term"
   ]
  },
  {
   "cell_type": "code",
   "execution_count": 23,
   "metadata": {
    "collapsed": true
   },
   "outputs": [],
   "source": [
    "def normalize_feature(df):\n",
    "    \"\"\"Applies function along input axis(default 0) of DataFrame.\"\"\"\n",
    "    return df.apply(lambda column: (column - column.mean()) / column.std())"
   ]
  },
  {
   "cell_type": "code",
   "execution_count": 24,
   "metadata": {},
   "outputs": [
    {
     "name": "stdout",
     "output_type": "stream",
     "text": [
      "<class 'numpy.ndarray'>\n"
     ]
    },
    {
     "data": {
      "text/plain": "array([[ 1.00000000e+00, -3.62140776e-01, -7.55086688e-01,\n         1.82225876e-01, -7.06189908e-01,  3.06617917e-01,\n        -5.90877673e-01,  3.44515797e-01, -5.08481165e-01],\n       [ 1.00000000e+00, -8.03204845e-01,  1.25825266e-03,\n        -2.47936991e-01, -3.27023420e-01,  9.33963187e-02,\n        -4.35817606e-01,  2.55416116e-01, -4.48912493e-01],\n       [ 1.00000000e+00,  1.37746700e+00,  5.84826715e-01,\n         1.24976856e+00,  2.45311974e-01,  9.78359696e-01,\n        -1.21556976e-02,  7.56568484e-01, -1.70352114e-01]])"
     },
     "execution_count": 24,
     "metadata": {},
     "output_type": "execute_result"
    }
   ],
   "source": [
    "X_poly, Xval_poly, Xtest_poly= prepare_poly_data(X, Xval, Xtest, power=8)\n",
    "print(type(X_poly))\n",
    "X_poly[:3, :]\n",
    "# X_poly.head()"
   ]
  },
  {
   "cell_type": "markdown",
   "metadata": {},
   "source": [
    "# 画出学习曲线\n",
    "> 首先，我们没有使用正则化，所以 $\\lambda=0$"
   ]
  },
  {
   "cell_type": "code",
   "execution_count": 25,
   "metadata": {
    "collapsed": true
   },
   "outputs": [],
   "source": [
    "def plot_learning_curve(X, y, Xval, yval, l=0):\n",
    "    training_cost, cv_cost = [], []\n",
    "    m = X.shape[0]\n",
    "\n",
    "    for i in range(1, m + 1):\n",
    "        # regularization applies here for fitting parameters\n",
    "        res = linear_regression_np(X[:i, :], y[:i], l=l)\n",
    "\n",
    "        # remember, when you compute the cost here, you are computing\n",
    "        # non-regularized cost. Regularization is used to fit parameters only\n",
    "        tc = cost(res.x, X[:i, :], y[:i])\n",
    "        cv = cost(res.x, Xval, yval)\n",
    "\n",
    "        training_cost.append(tc)\n",
    "        cv_cost.append(cv)\n",
    "\n",
    "    plt.plot(np.arange(1, m + 1), training_cost, label='training cost')\n",
    "    plt.plot(np.arange(1, m + 1), cv_cost, label='cv cost')\n",
    "    plt.legend(loc=1)\n"
   ]
  },
  {
   "cell_type": "code",
   "execution_count": 26,
   "metadata": {},
   "outputs": [
    {
     "data": {
      "text/plain": "<Figure size 432x288 with 1 Axes>",
      "image/png": "[encoded data removed]"
     },
     "metadata": {
      "needs_background": "light"
     },
     "output_type": "display_data"
    }
   ],
   "source": [
    "plot_learning_curve(X_poly, y, Xval_poly, yval, l=0)\n",
    "plt.show()"
   ]
  },
  {
   "cell_type": "markdown",
   "metadata": {},
   "source": [
    "你可以看到训练的代价太低了，不真实. 这是 **过拟合**了"
   ]
  },
  {
   "cell_type": "markdown",
   "metadata": {},
   "source": [
    "# try $\\lambda=1$"
   ]
  },
  {
   "cell_type": "code",
   "execution_count": 27,
   "metadata": {},
   "outputs": [
    {
     "data": {
      "text/plain": "<Figure size 432x288 with 1 Axes>",
      "image/png": "[encoded data removed]"
     },
     "metadata": {
      "needs_background": "light"
     },
     "output_type": "display_data"
    }
   ],
   "source": [
    "plot_learning_curve(X_poly, y, Xval_poly, yval, l=1)\n",
    "plt.show()"
   ]
  },
  {
   "cell_type": "markdown",
   "metadata": {},
   "source": [
    "\n",
    "训练代价增加了些，不再是0了。\n",
    "也就是说我们减轻**过拟合**"
   ]
  },
  {
   "cell_type": "markdown",
   "metadata": {},
   "source": [
    "# try $\\lambda=100$"
   ]
  },
  {
   "cell_type": "code",
   "execution_count": 28,
   "metadata": {},
   "outputs": [
    {
     "data": {
      "text/plain": "<Figure size 432x288 with 1 Axes>",
      "image/png": "[encoded data removed]"
     },
     "metadata": {
      "needs_background": "light"
     },
     "output_type": "display_data"
    }
   ],
   "source": [
    "plot_learning_curve(X_poly, y, Xval_poly, yval, l=100)\n",
    "plt.show()"
   ]
  },
  {
   "cell_type": "markdown",
   "metadata": {},
   "source": [
    "太多正则化了.  \n",
    "变成 **欠拟合**状态"
   ]
  },
  {
   "cell_type": "markdown",
   "metadata": {},
   "source": [
    "# 找到最佳的 $\\lambda$"
   ]
  },
  {
   "cell_type": "code",
   "execution_count": 29,
   "metadata": {
    "collapsed": true
   },
   "outputs": [],
   "source": [
    "l_candidate = [0, 0.001, 0.003, 0.01, 0.03, 0.1, 0.3, 1, 3, 10]\n",
    "training_cost, cv_cost = [], []"
   ]
  },
  {
   "cell_type": "code",
   "execution_count": 30,
   "metadata": {
    "collapsed": true
   },
   "outputs": [],
   "source": [
    "for l in l_candidate:\n",
    "    res = linear_regression_np(X_poly, y, l)\n",
    "    \n",
    "    tc = cost(res.x, X_poly, y)\n",
    "    cv = cost(res.x, Xval_poly, yval)\n",
    "    \n",
    "    training_cost.append(tc)\n",
    "    cv_cost.append(cv)"
   ]
  },
  {
   "cell_type": "code",
   "execution_count": 31,
   "metadata": {},
   "outputs": [
    {
     "data": {
      "text/plain": "<Figure size 432x288 with 1 Axes>",
      "image/png": "[encoded data removed]"
     },
     "metadata": {
      "needs_background": "light"
     },
     "output_type": "display_data"
    }
   ],
   "source": [
    "plt.plot(l_candidate, training_cost, label='training')\n",
    "plt.plot(l_candidate, cv_cost, label='cross validation')\n",
    "plt.legend(loc=2)\n",
    "\n",
    "plt.xlabel('lambda')\n",
    "\n",
    "plt.ylabel('cost')\n",
    "plt.show()"
   ]
  },
  {
   "cell_type": "code",
   "execution_count": 32,
   "metadata": {},
   "outputs": [
    {
     "data": {
      "text/plain": "1"
     },
     "execution_count": 32,
     "metadata": {},
     "output_type": "execute_result"
    }
   ],
   "source": [
    "# best cv I got from all those candidates\n",
    "l_candidate[np.argmin(cv_cost)]"
   ]
  },
  {
   "cell_type": "code",
   "execution_count": 33,
   "metadata": {},
   "outputs": [
    {
     "name": "stdout",
     "output_type": "stream",
     "text": [
      "test cost(l=0) = 10.055426362410126\n",
      "test cost(l=0.001) = 11.001927632262907\n",
      "test cost(l=0.003) = 11.26474655167747\n",
      "test cost(l=0.01) = 10.880780731411715\n",
      "test cost(l=0.03) = 10.022100517865269\n",
      "test cost(l=0.1) = 8.63190793331871\n",
      "test cost(l=0.3) = 7.3366077892272585\n",
      "test cost(l=1) = 7.466283751156784\n",
      "test cost(l=3) = 11.643941860536106\n",
      "test cost(l=10) = 27.715080254176254\n"
     ]
    }
   ],
   "source": [
    "# use test data to compute the cost\n",
    "for l in l_candidate:\n",
    "    theta = linear_regression_np(X_poly, y, l).x\n",
    "    print('test cost(l={}) = {}'.format(l, cost(theta, Xtest_poly, ytest)))"
   ]
  },
  {
   "cell_type": "markdown",
   "metadata": {},
   "source": [
    "调参后， $\\lambda = 0.3$ 是最优选择，这个时候测试代价最小"
   ]
  },
  {
   "cell_type": "code",
   "execution_count": 33,
   "metadata": {
    "collapsed": true
   },
   "outputs": [],
   "source": []
  }
 ],
 "metadata": {
  "anaconda-cloud": {},
  "kernelspec": {
   "display_name": "Python 3",
   "language": "python",
   "name": "python3"
  },
  "language_info": {
   "codemirror_mode": {
    "name": "ipython",
    "version": 3
   },
   "file_extension": ".py",
   "mimetype": "text/x-python",
   "name": "python",
   "nbconvert_exporter": "python",
   "pygments_lexer": "ipython3",
   "version": "3.6.2"
  }
 },
 "nbformat": 4,
 "nbformat_minor": 1
}