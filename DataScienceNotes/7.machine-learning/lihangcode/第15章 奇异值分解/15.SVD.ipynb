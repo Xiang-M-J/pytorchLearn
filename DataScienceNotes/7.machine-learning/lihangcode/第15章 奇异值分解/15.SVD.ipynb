{
 "cells": [
  {
   "cell_type": "markdown",
   "metadata": {
    "colab_type": "text",
    "id": "Ipoq5dkUZEI1"
   },
   "source": [
    "# 第15章 奇异值分解"
   ]
  },
  {
   "cell_type": "markdown",
   "metadata": {},
   "source": [
    "1.矩阵的奇异值分解是指将$m \\times n$实矩阵$A$表示为以下三个实矩阵乘积形式的运算\n",
    "$$A = U \\Sigma V ^ { T }$$\n",
    "\n",
    "其中$U$是$m$阶正交矩阵，$V$是$n$阶正交矩阵，$\\Sigma$是$m \\times n$矩形对角矩阵\n",
    "$$\\Sigma = \\operatorname { diag } ( \\sigma _ { 1 } , \\sigma _ { 2 } , \\cdots , \\sigma _ { p } ) , \\quad p = \\operatorname { min } \\{ m , n \\}$$\n",
    "其对角线元素非负，且满足$\\sigma _ { 1 } \\geq \\sigma _ { 2 } \\geq \\cdots \\geq \\sigma _ { p } \\geq 0$\n",
    "\n",
    "2.任意给定一个实矩阵，其奇异值分解一定存在，但并不唯一。\n",
    "\n",
    "3.奇异值分解包括紧奇异值分解和截断奇异值分解。紧奇异值分解是与原始矩阵等秩的奇异值分解，截断奇异值分解是比原始矩阵低秩的奇异值分解。\n",
    "\n",
    "4.奇异值分解有明确的几何解释。奇异值分解对应三个连续的线性变换：一个旋转变换，一个缩放变换和另一个旋转变换第一个和第三个旋转变换分别基于空间的标准正交基进行。\n",
    "\n",
    "5.设矩阵$A$的奇异值分解为$A = U \\Sigma V ^ { T }$，则有$$\\left. \\begin{array} { l } { A ^ { T } A = V ( \\Sigma ^ { T } \\Sigma ) V ^ { T } } \\\\ { A A ^ { T } = U ( \\Sigma \\Sigma ^ { T } ) U ^ { T } } \\end{array} \\right.$$\n",
    "\n",
    "即对称矩阵$A^TA$和$AA^T$的特征分解可以由矩阵$A$的奇异值分解矩阵表示。\n",
    "\n",
    "6.矩阵$A$的奇异值分解可以通过求矩阵$A^TA$的特征值和特征向量得到：$A^TA$的特征向量构成正交矩阵$V$的列；从$A^TA$的特征值$\\lambda _ { j }$的平方根得到奇异值$\\sigma _ { i } $,即$$\\sigma _ { j } = \\sqrt { \\lambda _ { j } } , \\quad j = 1,2 , \\cdots , n$$\n",
    "\n",
    "对其由大到小排列，作为对角线元素，构成对角矩阵$\\Sigma$;求正奇异值对应的左奇异向量，再求扩充的$A^T$的标准正交基，构成正交矩阵$U$的列。\n",
    "\n",
    "7.矩阵$A = [ a _ { i j } ] _ { m \\times n }$的弗罗贝尼乌斯范数定义为$$\\| A \\| _ { F } = ( \\sum _ { i = 1 } ^ { m } \\sum _ { j = 1 } ^ { n } ( a _ { i j } ) ^ { 2 } ) ^ { \\frac { 1 } { 2 } }$$在秩不超过$k$的$m \\times n$矩阵的集合中，存在矩阵$A$的弗罗贝尼乌斯范数意义下的最优近似矩阵$X$。秩为$k$的截断奇异值分解得到的矩阵$A_k$能够达到这个最优值。奇异值分解是弗罗贝尼乌斯范数意义下，也就是平方损失意义下的矩阵最优近似。\n",
    "\n",
    "8.任意一个实矩阵$A$可以由其外积展开式表示$$A = \\sigma _ { 1 } u _ { 1 } v _ { 1 } ^ { T } + \\sigma _ { 2 } u _ { 2 } v _ { 2 } ^ { T } + \\cdots + \\sigma _ { n } u _ { n } v _ { n } ^ { T }$$\n",
    "其中$u _ { k } v _ { k } ^ { T }$为$m \\times n$矩阵，是列向量$u _ { k }$和行向量$v _ { k } ^ { T }$的外积，$\\sigma _ { k }$为奇异值，$u _ { k } , v _ { k } ^ { T } , \\sigma _ { k }$通过矩阵$A$的奇异值分解得到。"
   ]
  },
  {
   "cell_type": "markdown",
   "metadata": {
    "colab_type": "text",
    "id": "149N2eYfZLed"
   },
   "source": [
    "---\n",
    "任意一个$m$ x $n$ 矩阵，都可以表示为三个矩阵的乘积（因子分解）形式，分别是$$m$$阶\n",
    "**正交矩阵** ，由**降序**排列的**非负**的对角线元素组成的$m$ x $n$ 矩形对角矩阵，和$n$阶**正交矩阵**，称为该矩阵的奇异值分解。矩阵的奇异值分解一定存在，但不唯一。\n",
    "\n",
    "奇异值分解可以看作是矩阵数据压缩的一种方法，即用因子分解的方式近似地表示原始矩阵，这种近似是在平方损失意义下的最优近似。"
   ]
  },
  {
   "cell_type": "markdown",
   "metadata": {
    "colab_type": "text",
    "id": "1i4xNylpaWVA"
   },
   "source": [
    "矩阵的奇异值分解是指，将一个非零的$m$ x $n$\n",
    "**实矩阵**$A, A\\in R^{m\\times n}$表示为一下三个实矩阵乘积形式的运算：\n",
    "$A = U\\Sigma V^{T}$,  \n",
    "其中 $U$ 是 $m$ 阶正交矩阵， $V$ 是 $n$ 阶正交矩阵，$\\Sigma$ 是由降序排列的非负的对角线元素组成的$m$ x $n$矩形对角矩阵。称为$A$ 的奇异值分解。 $U$的列向量称为左奇异向量， $V$的列向量称为右奇异向量。  \n",
    "\n",
    "奇异值分解不要求矩阵$A$ 是方阵，事实上矩阵的奇异值分解可以看作方阵的对角化的推广。  \n",
    "\n",
    "**紧奇奇异值分解**是与原始矩阵等秩的奇异值分解， **截断奇异值分解**是比原始矩阵低秩的奇异值分解。"
   ]
  },
  {
   "cell_type": "markdown",
   "metadata": {
    "colab_type": "text",
    "id": "uAEFyqLD1Rbp"
   },
   "source": [
    "---------------------------------------------------------------------------------------------------------------------------------"
   ]
  },
  {
   "cell_type": "code",
   "execution_count": 1,
   "metadata": {
    "colab": {},
    "colab_type": "code",
    "id": "RaH0xqPcZB94"
   },
   "outputs": [],
   "source": [
    "# 实现奇异值分解， 输入一个numpy矩阵，输出 U, sigma, V\n",
    "# https://zhuanlan.zhihu.com/p/54693391\n",
    "\n",
    "import numpy as np\n",
    "\n",
    "\n",
    "#基于矩阵分解的结果，复原矩阵\n",
    "def rebuildMatrix(U, sigma, V):\n",
    "    a = np.dot(U, sigma)\n",
    "    a = np.dot(a, np.transpose(V))\n",
    "    return a\n",
    "\n",
    "\n",
    "#基于特征值的大小，对特征值以及特征向量进行排序。倒序排列\n",
    "def sortByEigenValue(Eigenvalues, EigenVectors):\n",
    "    index = np.argsort(-1 * Eigenvalues)\n",
    "    Eigenvalues = Eigenvalues[index]\n",
    "    EigenVectors = EigenVectors[:, index]\n",
    "    return Eigenvalues, EigenVectors\n",
    "\n",
    "\n",
    "#对一个矩阵进行奇异值分解\n",
    "def SVD(matrixA, NumOfLeft=None):\n",
    "    #NumOfLeft是要保留的奇异值的个数，也就是中间那个方阵的宽度\n",
    "    #首先求transpose(A)*A\n",
    "    matrixAT_matrixA = np.dot(np.transpose(matrixA), matrixA)\n",
    "    #然后求右奇异向量\n",
    "    lambda_V, X_V = np.linalg.eig(matrixAT_matrixA)\n",
    "    lambda_V, X_V = sortByEigenValue(lambda_V, X_V)\n",
    "    #求奇异值\n",
    "    sigmas = lambda_V\n",
    "    sigmas = list(map(lambda x: np.sqrt(x)\n",
    "                      if x > 0 else 0, sigmas))  #python里很小的数有时候是负数\n",
    "    sigmas = np.array(sigmas)\n",
    "    sigmasMatrix = np.diag(sigmas)\n",
    "    if NumOfLeft == None:\n",
    "        rankOfSigmasMatrix = len(list(filter(lambda x: x > 0,\n",
    "                                             sigmas)))  #大于0的特征值的个数\n",
    "    else:\n",
    "        rankOfSigmasMatrix = NumOfLeft\n",
    "    sigmasMatrix = sigmasMatrix[0:rankOfSigmasMatrix, :]  #特征值为0的奇异值就不要了\n",
    "\n",
    "    #计算右奇异向量\n",
    "    X_U = np.zeros(\n",
    "        (matrixA.shape[0], rankOfSigmasMatrix))  #初始化一个右奇异向量矩阵，这里直接进行裁剪\n",
    "    for i in range(rankOfSigmasMatrix):\n",
    "        X_U[:, i] = np.transpose(np.dot(matrixA, X_V[:, i]) / sigmas[i])\n",
    "\n",
    "    #对右奇异向量和奇异值矩阵进行裁剪\n",
    "    X_V = X_V[:, 0:NumOfLeft]\n",
    "    sigmasMatrix = sigmasMatrix[0:rankOfSigmasMatrix, 0:rankOfSigmasMatrix]\n",
    "    #print(rebuildMatrix(X_U, sigmasMatrix, X_V))\n",
    "\n",
    "    return X_U, sigmasMatrix, X_V"
   ]
  },
  {
   "cell_type": "code",
   "execution_count": 2,
   "metadata": {
    "colab": {
     "base_uri": "https://localhost:8080/",
     "height": 143
    },
    "colab_type": "code",
    "id": "Hf9KqmH110KX",
    "outputId": "56ed2cdc-3f83-45eb-8c16-63881afee5a9"
   },
   "outputs": [
    {
     "data": {
      "text/plain": "array([[1, 1, 1, 2, 2],\n       [0, 0, 0, 3, 3],\n       [0, 0, 0, 1, 1],\n       [1, 1, 1, 0, 0],\n       [2, 2, 2, 0, 0],\n       [5, 5, 5, 0, 0],\n       [1, 1, 1, 0, 0]])"
     },
     "execution_count": 2,
     "metadata": {},
     "output_type": "execute_result"
    }
   ],
   "source": [
    "A = np.array([[1, 1, 1, 2, 2], [0, 0, 0, 3, 3], [0, 0, 0, 1, 1], [1, 1, 1, 0, 0],\n",
    "              [2, 2, 2, 0, 0], [5, 5, 5, 0, 0], [1, 1, 1, 0, 0]])\n",
    "\n",
    "A"
   ]
  },
  {
   "cell_type": "code",
   "execution_count": 3,
   "metadata": {
    "colab": {},
    "colab_type": "code",
    "id": "Tmecvggl15Gn"
   },
   "outputs": [],
   "source": [
    "X_U, sigmasMatrix, X_V = SVD(A, NumOfLeft=3)"
   ]
  },
  {
   "cell_type": "code",
   "execution_count": 4,
   "metadata": {
    "colab": {
     "base_uri": "https://localhost:8080/",
     "height": 143
    },
    "colab_type": "code",
    "id": "r9TbEba32HcQ",
    "outputId": "abfa62a2-3ea8-419b-eb08-209afaa5cea1"
   },
   "outputs": [
    {
     "data": {
      "text/plain": "array([[ 1.96602638e-01, -5.12980706e-01, -1.01842345e-08],\n       [ 3.08997616e-02, -8.04794293e-01,  3.45625212e-09],\n       [ 1.02999205e-02, -2.68264764e-01,  1.15208404e-09],\n       [ 1.76002797e-01,  2.35488225e-02, -1.22083430e-08],\n       [ 3.52005594e-01,  4.70976451e-02, -2.44166860e-08],\n       [ 8.80013984e-01,  1.17744113e-01, -5.58095680e-08],\n       [ 1.76002797e-01,  2.35488225e-02, -1.22083430e-08]])"
     },
     "execution_count": 4,
     "metadata": {},
     "output_type": "execute_result"
    }
   ],
   "source": [
    "X_U"
   ]
  },
  {
   "cell_type": "code",
   "execution_count": 5,
   "metadata": {
    "colab": {
     "base_uri": "https://localhost:8080/",
     "height": 71
    },
    "colab_type": "code",
    "id": "IoVH0RA32MxA",
    "outputId": "4b1ca501-7ce9-4cff-b929-150084bcd2fa"
   },
   "outputs": [
    {
     "data": {
      "text/plain": "array([[9.81586105e+00, 0.00000000e+00, 0.00000000e+00],\n       [0.00000000e+00, 5.25821946e+00, 0.00000000e+00],\n       [0.00000000e+00, 0.00000000e+00, 6.36577885e-08]])"
     },
     "execution_count": 5,
     "metadata": {},
     "output_type": "execute_result"
    }
   ],
   "source": [
    "sigmasMatrix"
   ]
  },
  {
   "cell_type": "code",
   "execution_count": 6,
   "metadata": {
    "colab": {
     "base_uri": "https://localhost:8080/",
     "height": 107
    },
    "colab_type": "code",
    "id": "42ag3hPE2OBa",
    "outputId": "8fa214d1-3ec3-456e-8698-72c7e5ea5d8c"
   },
   "outputs": [
    {
     "data": {
      "text/plain": "array([[ 5.75872999e-01,  4.12749590e-02,  8.16496581e-01],\n       [ 5.75872999e-01,  4.12749590e-02, -4.08248290e-01],\n       [ 5.75872999e-01,  4.12749590e-02, -4.08248290e-01],\n       [ 5.05512944e-02, -7.05297502e-01,  3.66695611e-17],\n       [ 5.05512944e-02, -7.05297502e-01,  3.66695611e-17]])"
     },
     "execution_count": 6,
     "metadata": {},
     "output_type": "execute_result"
    }
   ],
   "source": [
    "X_V"
   ]
  },
  {
   "cell_type": "code",
   "execution_count": 7,
   "metadata": {
    "colab": {
     "base_uri": "https://localhost:8080/",
     "height": 143
    },
    "colab_type": "code",
    "id": "1RHUFh0w2O0K",
    "outputId": "e6947501-4932-4c53-dee3-25dd38f542de"
   },
   "outputs": [
    {
     "data": {
      "text/plain": "array([[ 1.00000000e+00,  1.00000000e+00,  1.00000000e+00,\n         2.00000000e+00,  2.00000000e+00],\n       [ 1.41804544e-17, -1.05615184e-15,  1.02868557e-15,\n         3.00000000e+00,  3.00000000e+00],\n       [-3.69606783e-18, -3.58160535e-16,  3.36785270e-16,\n         1.00000000e+00,  1.00000000e+00],\n       [ 1.00000000e+00,  1.00000000e+00,  1.00000000e+00,\n        -1.11111287e-17, -1.11111287e-17],\n       [ 2.00000000e+00,  2.00000000e+00,  2.00000000e+00,\n        -2.22222575e-17, -2.22222575e-17],\n       [ 5.00000000e+00,  5.00000000e+00,  5.00000000e+00,\n        -1.24071427e-16, -1.24071427e-16],\n       [ 1.00000000e+00,  1.00000000e+00,  1.00000000e+00,\n        -1.11111287e-17, -1.11111287e-17]])"
     },
     "execution_count": 7,
     "metadata": {},
     "output_type": "execute_result"
    }
   ],
   "source": [
    "# rebuild from U, sigma, V\n",
    "\n",
    "rebuildMatrix(X_U, sigmasMatrix, X_V)"
   ]
  },
  {
   "cell_type": "markdown",
   "metadata": {
    "colab_type": "text",
    "id": "c7FtRwkh2WlI"
   },
   "source": [
    "same as A."
   ]
  },
  {
   "cell_type": "code",
   "execution_count": 8,
   "metadata": {
    "colab": {
     "base_uri": "https://localhost:8080/",
     "height": 321
    },
    "colab_type": "code",
    "id": "r_5WIyV33P1H",
    "outputId": "ee629ad1-caca-4f8b-8b8b-4ddb7df88824"
   },
   "outputs": [
    {
     "data": {
      "text/plain": "<PIL.JpegImagePlugin.JpegImageFile image mode=RGB size=304x304 at 0x21EA9403070>",
      "image/png": "[encoded data removed]"
     },
     "execution_count": 8,
     "metadata": {},
     "output_type": "execute_result"
    }
   ],
   "source": [
    "from PIL import Image\n",
    "# import requests\n",
    "# from io import BytesIO\n",
    "\n",
    "# url = 'https://images.mulberry.com/i/mulberrygroup/RL5792_000N651_L/small-hampstead-deep-amber-small-classic-grain-ayers/small-hampstead-deep-amber-small-classic-grain-ayers?v=3&w=304'\n",
    "# response = requests.get(url)\n",
    "# img = Image.open(BytesIO(response.content))\n",
    "img = Image.open(\"bag.jpg\")\n",
    "img"
   ]
  },
  {
   "cell_type": "markdown",
   "metadata": {},
   "source": [
    "----\n",
    "本章代码来源：https://github.com/hktxt/Learn-Statistical-Learning-Method\n",
    "\n",
    "本文代码更新地址：https://github.com/fengdu78/lihang-code\n",
    "\n",
    "中文注释制作：机器学习初学者公众号：ID:ai-start-com\n",
    "\n",
    "配置环境：python 3.5+\n",
    "\n",
    "代码全部测试通过。\n",
    "![gongzhong](../gongzhong.jpg)"
   ]
  }
 ],
 "metadata": {
  "colab": {
   "collapsed_sections": [],
   "name": "SVD.ipynb",
   "provenance": [],
   "version": "0.3.2"
  },
  "kernelspec": {
   "display_name": "Python 3",
   "language": "python",
   "name": "python3"
  },
  "language_info": {
   "codemirror_mode": {
    "name": "ipython",
    "version": 3
   },
   "file_extension": ".py",
   "mimetype": "text/x-python",
   "name": "python",
   "nbconvert_exporter": "python",
   "pygments_lexer": "ipython3",
   "version": "3.7.6"
  }
 },
 "nbformat": 4,
 "nbformat_minor": 1
}