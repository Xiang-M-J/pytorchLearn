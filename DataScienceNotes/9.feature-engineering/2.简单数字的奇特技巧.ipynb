{
 "cells": [
  {
   "cell_type": "markdown",
   "metadata": {},
   "source": [
    "[原版（英文）图书地址](https://www.oreilly.com/library/view/feature-engineering-for/9781491953235/)\n",
    "\n",
    "**翻译**：[apachecn](https://github.com/apachecn)，[翻译版本地址](https://github.com/apachecn/feature-engineering-for-ml-zh)\n",
    "\n",
    "**代码修改和整理**：[黄海广](https://github.com/fengdu78)，原文修改成jupyter notebook格式，并增加和修改了部分代码，测试全部通过，所有数据集已经放在[百度云](data/README.md)下载。"
   ]
  },
  {
   "cell_type": "markdown",
   "metadata": {},
   "source": [
    "# 二、简单数字的奇特技巧\n",
    "\n",
    "> 译者：[@coboe](https://github.com/coboe)\n",
    "> \n",
    "> 校对者：[@ZiseonJiao](https://github.com/emengjzs)\n",
    "\n",
    "在深入研究诸如文本和图像这样的复杂数据类型之前，让我们先从最简单的数字数据开始。它们可能来自各种来源：地理位置或人、购买的价格、传感器的测量、交通计数等。数字数据已经是数学模型容易消化的格式。这并不意味着不再需要特征工程。好的特征不仅代表数据的显著方面，而且符合模型的假设。因此，转换常常是必要的。数字特征工程技术是基础。当原始数据被转换为数字特征时，它们可以被应用。\n",
    "\n",
    "数值数据的第一个健全检查是大小是否重要。我们只需要知道它是正面的还是负面的？或者我们只需要知道一个非常粗粒度的大小？这一明智的检查对于自动累积数尤其重要，比如统计，每天访问网站的次数，餐馆所获得的评论数量等等。\n",
    "\n",
    "接下来，考虑特征的规模。最大值和最小值是什么？它们跨越几个数量级吗？输入特性平滑的模型对输入的尺度敏感。例如，3x+ 1是输入X的简单线性函数，其输出的规模直接取决于输入的比例。其他例子包括k-均值聚类，最近邻居方法，RBF内核，以及使用欧几里得距离的任何东西。对于这些模型和建模组件，通常规范化特征以使输出保持在预期的规模上通常是一个好主意。\n",
    "\n",
    "另一方面，逻辑函数对输入特征量表不敏感。无论输入是什么，它们的输出都是二进制的。例如，逻辑，并采取任何两个变量和输出1，当且仅当两个输入均为真。逻辑函数的另一个例子是阶跃函数“输入x大于5”。决策树模型由输入特征的阶跃函数组成。因此，基于空间划分树（决策树、梯度提升机、随机森林）的模型对尺度不敏感。唯一的例外是如果输入的规模随着时间的增长而增长，那么如果该特征是某种类型的累积计数。最终它将生长在树被训练的范围之外。如果可能是这样的话，那么就有必要周期性地重新调整输入。另一个解决方案是第5章讨论的bin计数方法。\n",
    "\n",
    "考虑数值特征的分布也是很重要的。分布总结了承担特定价值的可能性。输入特征的分布对某些模型比其他模型更重要。例如，线性回归模型的训练过程假定预测误差分布得像高斯。这通常是好的，除非预测目标在几个数量级上扩散。在这种情况下，高斯误差假设可能不再成立。解决这一问题的一种方法是转变产出目标，以驯服规模的增长。（严格地说，这将是目标工程，而不是特征工程。）对数变换，这是一种功率变换，将变量的分布接近高斯。另一个解决方案是第5章讨论的bin计数方法。\n",
    "\n",
    "除了裁剪模型或培训过程的假设, 多个功能可以组合成更复杂的功能。希望复杂的功能能够更简洁地捕捉原始数据中的重要信息。通过使输入功能更加 \"雄辩\", 模型本身可以更简单, 更容易进行培训和评估, 并做出更好的预测。作为一个极端的, 复杂的特点本身可能是统计模型的输出。这是一个称为模型堆叠的概念, 我们将在7章和8章中更详细地讨论。在本章中, 我们给出了复杂特征的最简单示例: 交互功能。\n",
    "\n",
    "交互特征易于制定，但特征的组合导致更多的输入到模型中。为了减少计算开销，通常需要使用自动特征选择来修剪输入特征。\n",
    "\n",
    "我们将从标量、向量和空间的基本概念开始，然后讨论尺度、分布、交互特征和特征选择。\n",
    "\n",
    "## 标量、向量和空间\n",
    "\n",
    "在我们开始之前, 我们需要定义一些基本概念, 这本书的其余部分。单个数字特征也称为标量。标量的有序列表称为向量。向量位于向量空间中。在绝大多数机器学习应用中, 对模型的输入通常表示为数字向量。本书的其余部分将讨论将原始数据转换为数字向量的最佳实践策略. \n",
    "\n",
    "向量可以被可视化为空间中的一个点。（有时人们从原点到那一点画一条线和一个箭头。在这本书中，我们将主要使用这一点。例如，假设我们有一个二维向量$v=[1，-1]$。也就是说，向量包含两个数，在第一方向$d1$中，向量具有1的值，并且在第二方向$d2$中，它具有$-1$的值。我们可以在二维图中绘制$v$。\n",
    "\n",
    "![A single vector](images/chapter2/A_single_vector.png)\n",
    "\n",
    "**Figure 2-1. A single vector.**\n",
    "\n",
    "在数据世界中, 抽象向量及其特征维度具有实际意义。例如, 它可以代表一个人对歌曲的偏爱。每首歌都是一个特征, 其中1的值相当于大拇指向上,$-1$ 个拇指向下。假设向量 $v$ 表示一个听众 Bob 的喜好。Bob喜欢 Bob Dylan 的  “Blowin’ in the Wind” 和 Lady Gaga 的 \"Poker Face\"。其他人可能有不同的喜好。总的来说, 数据集合可以在特征空间中可视化为点云. \n",
    "\n",
    "相反，一首歌可以由一组人的个人喜好来表示。假设只有两个听众，Alice 和 Bob。Alice 喜欢 Leonard Cohen 的 “Poker Face”, “Blowin’ in the Wind” 和 “Hallelujah”，但讨厌 Katy Perry 的 “Roar” 和 Radiohead 的 “Creep”。Bob 喜欢 “Roar\", “Hallelujah”和“Blowin’ in the Wind”，但讨厌 “Poker Face” 和 “Creep” 。在听众的空间里，每一首歌都是一个点。就像我们可以在特征空间中可视化数据一样，我们可以在数据空间中可视化特征。图2-2显示了这个例子。\n",
    "\n",
    "![Illustration of feature space vs. data space](images/chapter2/Illustration_of_feature_space_vs_data_space.png)\n",
    "\n",
    "**Figure 2-2. Illustration of feature space vs. data space.**\n",
    "\n",
    "## 处理计数\n",
    "\n",
    "在大数据时代，计数可以快速积累而不受约束。用户可以将歌曲或电影放在无限播放中，或者使用脚本反复检查流行节目的门票可用性，这会导致播放次数或网站访问计数迅速上升。当数据可以以高的体积和速度产生时，它们很可能包含一些极值。这是一个好主意，检查他们的规模，并确定是否保持它们作为原始数字，将它们转换成二进制变量，以指示存在，或将它们放入粗粒度。\n",
    "\n",
    "## 二值化\n",
    "\n",
    "Million Song 数据集中的用户品味画像包含了一百万个用户在 Echo Nest 的完整音乐聆听历史。下面是有关数据集的一些相关统计数据。\n",
    "\n",
    "###  Echo Nest 品味画像数据集的统计\n",
    "\n",
    "- 有超过4800万个用户ID、音乐ID和监听计数三元组。\n",
    "- 完整的数据集包含1019318个独特用户和384546首独特歌曲。\n",
    "- 引文：Echo Nest 品味画像的数据子集，官方的 Million Song 数据集的用户数据集，可从这里获得：http://labrosa.ee.columbia.edu/millionsong/tasteprofile\n",
    "\n",
    "假设任务是建立一个推荐器向用户推荐歌曲。推荐器的一个组件可以预测用户将对一首特别的歌曲会有多少喜欢。由于数据包含实际的听歌次数，这应该是预测的目标吗？如果一个大的听计数意味着用户真的喜欢这首歌，反之亦然，那是正确的。然而，数据表明，虽然99%的听计数是24或更低，也有一些听计数数以千计，最大为9667。（如图2-3所示，直方图最接近于0的bin中的峰值。但是超过10000个三元组的计数更大，几千个则有几个。这些值异常大；如果我们试图预测实际的听计数，那么模型将被这些大的值拉离。\n",
    "\n",
    "![Histogram of listen counts in the user taste profile of the Million Song Dataset. Note that the y-axis is on a log scale.](images/chapter2/listen_count.png)\n",
    "\n",
    "**Figure 2-3. Histogram of listen counts in the user taste profile of the Million Song Dataset. Note that the y-axis is on a log scale.**\n",
    "\n",
    "在 Million Song 数据集中，原始监听计数不是用户口味的可靠度量。（在统计术语中，健壮性意味着该方法在各种各样的条件下工作。）用户有不同的听力习惯。有些人可能把他们最喜欢的歌曲放在无限的循环中，而其他人可能只在特殊的场合品尝它们。很难说听一首歌20次的人一定喜欢听10次的人的两倍。\n",
    "\n",
    "用户偏好的更健壮表示是使计数二元化和修剪所有大于1的计数为1。换句话说，如果用户至少听过一首歌，那么我们将其视为用户喜欢歌曲。这样，模型不需要花费周期来预测原始计数之间的微小差异。二进制目标是用户偏好的简单而稳健的度量。\n",
    "\n",
    "### 例2-1:使 Million Song 数据集中听歌计数二进制化"
   ]
  },
  {
   "cell_type": "code",
   "execution_count": 7,
   "metadata": {},
   "outputs": [],
   "source": [
    "import pandas as pd\n",
    "# listen_count = pd.read_csv(\n",
    "#     '../../../pytorchLearnResource/Data/data/train_triplets.txt', header=None, delimiter='\\t')\n",
    "# # The table contains user-song-count triplets. Only non-zero counts are\n",
    "# # included. Hence to binarize the count, we just need to set the entire\n",
    "# # count column to 1.\n",
    "#\n",
    "# listen_count[2] = 1"
   ]
  },
  {
   "cell_type": "markdown",
   "metadata": {},
   "source": [
    "这是我们设计模型目标变量的一个例子。严格地说, 目标不是一个特征, 因为它不是输入。但有时我们确实需要修改目标以解决正确的问题。\n",
    "\n",
    "## 量化或装箱\n",
    "\n",
    "对于本练习, 我们从第 6 轮 Yelp 数据集挑战中采集数据, 并创建一个更小的分类数据集。Yelp 数据集包含用户对来自北美和欧洲十个城市的企业的评论。每个商户都标记为零个或多个类别。以下是有关数据集的相关统计信息。"
   ]
  },
  {
   "cell_type": "markdown",
   "metadata": {},
   "source": [
    "### 关于第 6 轮 Yelp 数据集的统计\n",
    "\n",
    "- 有782种商户类别。\n",
    "- 完整的数据集包含 1569264 个（约1.6M）评论和 61184 个（61K）商户。\n",
    "- “餐厅”（990627个评论）和“夜生活”（210028个评论）是最流行的类别，评论计数是明智的。\n",
    "- 没有一个商户同时属于餐厅和夜生活分类。因此，这两组评论之间没有重叠。\n",
    "\n",
    "每个商户都有一个评论计数。假设我们的任务是使用协同过滤来预测用户可能给企业的评级。评论计数可能是一个有用的输入特征，因为通常在流行和良好的评级之间有很强的相关性。现在的问题是，我们应该使用原始评论计数或进一步处理它吗？图2-4显示了所有商户评论计数的直方图。我们看到和音乐听歌计数一样的模式。大部分的统计数字都很小，但一些企业有成千上万的评论。\n",
    "\n",
    "### 例2-2:在YELP数据集中可视化商户评论计数"
   ]
  },
  {
   "cell_type": "code",
   "execution_count": 8,
   "metadata": {},
   "outputs": [],
   "source": [
    "import pandas as pd\n",
    "import json\n",
    "import matplotlib.pyplot as plt\n",
    "import seaborn as sns\n",
    "%matplotlib inline"
   ]
  },
  {
   "cell_type": "code",
   "execution_count": 9,
   "metadata": {},
   "outputs": [
    {
     "data": {
      "text/plain": "              business_id                                       full_address  \\\n0  rncjoVoEFUJGCUoC1JgnUA         8466 W Peoria Ave\\nSte 6\\nPeoria, AZ 85345   \n1  0FNFSzCFP_rGUoJx8W7tJg                  2149 W Wood Dr\\nPhoenix, AZ 85029   \n2  3f_lyB6vFK48ukH6ScvLHg              1134 N Central Ave\\nPhoenix, AZ 85004   \n3  usAsSV36QmUej8--yvN-dg              845 W Southern Ave\\nPhoenix, AZ 85041   \n4  PzOqRohWw7F7YEPBz6AubA  6520 W Happy Valley Rd\\nSte 101\\nGlendale Az, ...   \n\n   open                                         categories         city  \\\n0  True  [Accountants, Professional Services, Tax Servi...       Peoria   \n1  True                  [Sporting Goods, Bikes, Shopping]      Phoenix   \n2  True                                                 []      Phoenix   \n3  True                                    [Food, Grocery]      Phoenix   \n4  True                 [Food, Bagels, Delis, Restaurants]  Glendale Az   \n\n   review_count                          name neighborhoods   longitude state  \\\n0             3     Peoria Income Tax Service            [] -112.241596    AZ   \n1             5                   Bike Doctor            [] -112.105933    AZ   \n2             4  Valley Permaculture Alliance            [] -112.073933    AZ   \n3             5                     Food City            [] -112.085377    AZ   \n4            14             Hot Bagels & Deli            [] -112.200264    AZ   \n\n   stars   latitude      type  \n0    5.0  33.581867  business  \n1    5.0  33.604054  business  \n2    5.0  33.460526  business  \n3    3.5  33.392210  business  \n4    3.5  33.712797  business  ",
      "text/html": "<div>\n<style scoped>\n    .dataframe tbody tr th:only-of-type {\n        vertical-align: middle;\n    }\n\n    .dataframe tbody tr th {\n        vertical-align: top;\n    }\n\n    .dataframe thead th {\n        text-align: right;\n    }\n</style>\n<table border=\"1\" class=\"dataframe\">\n  <thead>\n    <tr style=\"text-align: right;\">\n      <th></th>\n      <th>business_id</th>\n      <th>full_address</th>\n      <th>open</th>\n      <th>categories</th>\n      <th>city</th>\n      <th>review_count</th>\n      <th>name</th>\n      <th>neighborhoods</th>\n      <th>longitude</th>\n      <th>state</th>\n      <th>stars</th>\n      <th>latitude</th>\n      <th>type</th>\n    </tr>\n  </thead>\n  <tbody>\n    <tr>\n      <th>0</th>\n      <td>rncjoVoEFUJGCUoC1JgnUA</td>\n      <td>8466 W Peoria Ave\\nSte 6\\nPeoria, AZ 85345</td>\n      <td>True</td>\n      <td>[Accountants, Professional Services, Tax Servi...</td>\n      <td>Peoria</td>\n      <td>3</td>\n      <td>Peoria Income Tax Service</td>\n      <td>[]</td>\n      <td>-112.241596</td>\n      <td>AZ</td>\n      <td>5.0</td>\n      <td>33.581867</td>\n      <td>business</td>\n    </tr>\n    <tr>\n      <th>1</th>\n      <td>0FNFSzCFP_rGUoJx8W7tJg</td>\n      <td>2149 W Wood Dr\\nPhoenix, AZ 85029</td>\n      <td>True</td>\n      <td>[Sporting Goods, Bikes, Shopping]</td>\n      <td>Phoenix</td>\n      <td>5</td>\n      <td>Bike Doctor</td>\n      <td>[]</td>\n      <td>-112.105933</td>\n      <td>AZ</td>\n      <td>5.0</td>\n      <td>33.604054</td>\n      <td>business</td>\n    </tr>\n    <tr>\n      <th>2</th>\n      <td>3f_lyB6vFK48ukH6ScvLHg</td>\n      <td>1134 N Central Ave\\nPhoenix, AZ 85004</td>\n      <td>True</td>\n      <td>[]</td>\n      <td>Phoenix</td>\n      <td>4</td>\n      <td>Valley Permaculture Alliance</td>\n      <td>[]</td>\n      <td>-112.073933</td>\n      <td>AZ</td>\n      <td>5.0</td>\n      <td>33.460526</td>\n      <td>business</td>\n    </tr>\n    <tr>\n      <th>3</th>\n      <td>usAsSV36QmUej8--yvN-dg</td>\n      <td>845 W Southern Ave\\nPhoenix, AZ 85041</td>\n      <td>True</td>\n      <td>[Food, Grocery]</td>\n      <td>Phoenix</td>\n      <td>5</td>\n      <td>Food City</td>\n      <td>[]</td>\n      <td>-112.085377</td>\n      <td>AZ</td>\n      <td>3.5</td>\n      <td>33.392210</td>\n      <td>business</td>\n    </tr>\n    <tr>\n      <th>4</th>\n      <td>PzOqRohWw7F7YEPBz6AubA</td>\n      <td>6520 W Happy Valley Rd\\nSte 101\\nGlendale Az, ...</td>\n      <td>True</td>\n      <td>[Food, Bagels, Delis, Restaurants]</td>\n      <td>Glendale Az</td>\n      <td>14</td>\n      <td>Hot Bagels &amp; Deli</td>\n      <td>[]</td>\n      <td>-112.200264</td>\n      <td>AZ</td>\n      <td>3.5</td>\n      <td>33.712797</td>\n      <td>business</td>\n    </tr>\n  </tbody>\n</table>\n</div>"
     },
     "execution_count": 9,
     "metadata": {},
     "output_type": "execute_result"
    }
   ],
   "source": [
    "### Load the data about businesses\n",
    "biz_file = open('data/yelp_academic_dataset_business.json')\n",
    "biz_df = pd.DataFrame([json.loads(x) for x in biz_file.readlines()])\n",
    "biz_file.close()\n",
    "biz_df.head()"
   ]
  },
  {
   "cell_type": "code",
   "execution_count": 10,
   "metadata": {},
   "outputs": [
    {
     "data": {
      "text/plain": "Text(0, 0.5, 'Occurrence')"
     },
     "execution_count": 10,
     "metadata": {},
     "output_type": "execute_result"
    },
    {
     "data": {
      "text/plain": "<Figure size 432x288 with 1 Axes>",
      "image/png": "[encoded data removed]"
     },
     "metadata": {},
     "output_type": "display_data"
    }
   ],
   "source": [
    "### Plot the histogram of the review counts\n",
    "sns.set_style('whitegrid')\n",
    "fig, ax = plt.subplots()\n",
    "biz_df['review_count'].hist(ax=ax, bins=100)\n",
    "ax.set_yscale('log')\n",
    "ax.tick_params(labelsize=14)\n",
    "ax.set_xlabel('Review Count', fontsize=14)\n",
    "ax.set_ylabel('Occurrence', fontsize=14)"
   ]
  },
  {
   "cell_type": "markdown",
   "metadata": {},
   "source": [
    "**Figure 2-4. Histogram of business review counts in the Yelp reviews dataset. The y-axis is on a log-scale.**\n",
    "\n",
    "对于许多模型来说，跨越数个数量级的原始计数是有问题的。在线性模型中，相同的线性系数必须对计数的所有可能值工作。大量的计数也可能破坏无监督学习方法，如k-均值聚类，它使用相似性函数来测量数据点之间的相似性。k-均值使用数据点之间的欧几里得距离。数据向量的一个元素中的大计数将超过所有其他元素中的相似性，这可能会丢弃整个相似性度量。\n",
    "\n",
    "一种解决方案是通过量化计数来包含标量。换句话说，我们将计数分组到容器中，并且去掉实际的计数值。量化将连续数映射成离散数。我们可以把离散化的数字看作是代表强度度量的容器的有序的序列。\n",
    "\n",
    "为了量化数据，我们必须决定每一个箱子应该有多宽。解决方案分为固定宽度或自适应两种类型。我们将给出每个类型的例子。\n",
    "\n",
    "### 固定宽度装箱\n",
    "\n",
    "对于固定宽度装箱, 每个 bin 都包含一个特定的数值范围。范围可以是定制设计或自动分割, 它们可以线性缩放或指数缩放。例如, 我们可以将一个人的年龄分组为十年: 0-9 岁归纳到bin 1, 10-19 年归纳到 bin 2 等。要从计数映射到 bin, 只需除以 bin 的宽度并取整部分。\n",
    "\n",
    "也经常看到定制设计的年龄范围更适合于生活的阶段：\n",
    "- 0-12 岁\n",
    "- 12-17 岁\n",
    "- 18-24 岁\n",
    "- 25-34 岁\n",
    "- 35-44 岁\n",
    "- 45-54 岁\n",
    "- 55-64 岁\n",
    "- 65-74 岁\n",
    "- 75 岁以上\n",
    "\n",
    "\n",
    "当数字跨越多个数量级时，最好用10个幂（或任何常数的幂）来分组：0－9、10-99、100-999、100-9999等。容器宽度呈指数增长，从O（10）、O（100）到O（1000）和以上。要从计数映射到bin，取计数的log值。指数宽度的划分与对数变换非常相关，我们在“对数变换”中讨论。\n",
    "\n",
    "### 例2-3:用固定宽度的箱进行量化计数"
   ]
  },
  {
   "cell_type": "code",
   "execution_count": 11,
   "metadata": {},
   "outputs": [
    {
     "data": {
      "text/plain": "array([93, 82, 77, 25, 49, 34, 71, 25, 55, 41, 33, 72, 86, 56, 34, 51, 76,\n       79, 39, 72])"
     },
     "execution_count": 11,
     "metadata": {},
     "output_type": "execute_result"
    }
   ],
   "source": [
    "import numpy as np\n",
    "### Generate 20 random integers uniformly between 0 and 99\n",
    "small_counts = np.random.randint(0, 100, 20)\n",
    "small_counts"
   ]
  },
  {
   "cell_type": "code",
   "execution_count": 12,
   "metadata": {},
   "outputs": [
    {
     "data": {
      "text/plain": "array([9, 8, 7, 2, 4, 3, 7, 2, 5, 4, 3, 7, 8, 5, 3, 5, 7, 7, 3, 7],\n      dtype=int32)"
     },
     "execution_count": 12,
     "metadata": {},
     "output_type": "execute_result"
    }
   ],
   "source": [
    "np.floor_divide(small_counts, 10)"
   ]
  },
  {
   "cell_type": "code",
   "execution_count": 13,
   "metadata": {},
   "outputs": [],
   "source": [
    "### An array of counts that span several magnitudes\n",
    "large_counts = [\n",
    "    296, 8286, 64011, 80, 3, 725, 867, 2215, 7689, 11495, 91897, 44, 28, 7971,\n",
    "    926, 122, 22222\n",
    "]"
   ]
  },
  {
   "cell_type": "code",
   "execution_count": 14,
   "metadata": {},
   "outputs": [
    {
     "data": {
      "text/plain": "array([2., 3., 4., 1., 0., 2., 2., 3., 3., 4., 4., 1., 1., 3., 2., 2., 4.])"
     },
     "execution_count": 14,
     "metadata": {},
     "output_type": "execute_result"
    }
   ],
   "source": [
    "### Map to exponential-width bins via the log function\n",
    "np.floor(np.log10(large_counts))"
   ]
  },
  {
   "cell_type": "markdown",
   "metadata": {},
   "source": [
    "### 分位数装箱\n",
    "\n",
    "固定宽度装箱很容易计算。但是如果计数有很大的差距, 那么将会有许多空的垃圾箱没有数据。该问题可以通过基于数据分布的垃圾箱自适应定位来解决。这可以使用分发的分位数来完成。\n",
    "\n",
    "分位数是将数据划分为相等部分的值。例如, 中位数将数据分成一半;一半的数据是较小的, 一半大于中位数。分位数把数据分成几个部分, 十分位数把数据划分成十份。示例2-4 演示如何计算 Yelp 商户评论数的十等分, 图2-5 覆盖直方图上的十等分。这就更清楚地说明了对更小的计数的歪斜。\n",
    "\n",
    "### 例 2-4:计算 Yelp 商户评论数的十分位数"
   ]
  },
  {
   "cell_type": "code",
   "execution_count": 15,
   "metadata": {},
   "outputs": [
    {
     "data": {
      "text/plain": "0.1     3.0\n0.2     3.0\n0.3     4.0\n0.4     5.0\n0.5     6.0\n0.6     8.0\n0.7    12.0\n0.8    23.0\n0.9    50.0\nName: review_count, dtype: float64"
     },
     "execution_count": 15,
     "metadata": {},
     "output_type": "execute_result"
    }
   ],
   "source": [
    "deciles = biz_df['review_count'].quantile([.1, .2, .3, .4, .5, .6, .7, .8, .9])\n",
    "deciles"
   ]
  },
  {
   "cell_type": "code",
   "execution_count": 16,
   "metadata": {},
   "outputs": [
    {
     "data": {
      "text/plain": "Text(0, 0.5, 'Occurrence')"
     },
     "execution_count": 16,
     "metadata": {},
     "output_type": "execute_result"
    },
    {
     "data": {
      "text/plain": "<Figure size 432x288 with 1 Axes>",
      "image/png": "[encoded data removed]"
     },
     "metadata": {},
     "output_type": "display_data"
    }
   ],
   "source": [
    "### Visualize the deciles on the histogram\n",
    "sns.set_style('whitegrid')\n",
    "fig, ax = plt.subplots()\n",
    "biz_df['review_count'].hist(ax=ax, bins=100)\n",
    "for pos in deciles:\n",
    "    handle = plt.axvline(pos, color='r')\n",
    "ax.legend([handle], ['deciles'], fontsize=14)\n",
    "ax.set_yscale('log')\n",
    "ax.set_xscale('log')\n",
    "ax.tick_params(labelsize=14)\n",
    "ax.set_xlabel('Review Count', fontsize=14)\n",
    "ax.set_ylabel('Occurrence', fontsize=14)"
   ]
  },
  {
   "cell_type": "markdown",
   "metadata": {},
   "source": [
    "**Figure 2-5. Deciles of the review counts in the Yelp reviews dataset. Note that both x- and y-axes are in log scale.**\n",
    "\n",
    "为了计算分位数和映射数据到分位数箱，我们可以使用 `Pandas` 库。 `pandas.DataFrame.quantile` 和 `pandas.Series.quantile` 用于计算分位数。`pandas.qcut`将数据映射到所需数量的分位数。"
   ]
  },
  {
   "cell_type": "markdown",
   "metadata": {},
   "source": [
    "### 例2-5:按分位数分箱计数"
   ]
  },
  {
   "cell_type": "code",
   "execution_count": 17,
   "metadata": {},
   "outputs": [
    {
     "data": {
      "text/plain": "array([1, 2, 3, 0, 0, 1, 1, 2, 2, 3, 3, 0, 0, 2, 1, 0, 3], dtype=int64)"
     },
     "execution_count": 17,
     "metadata": {},
     "output_type": "execute_result"
    }
   ],
   "source": [
    "### Continue example Example 2-3 with large_counts\n",
    "import pandas as pd\n",
    "### Map the counts to quartiles\n",
    "pd.qcut(large_counts, 4, labels=False)"
   ]
  },
  {
   "cell_type": "code",
   "execution_count": 18,
   "metadata": {},
   "outputs": [
    {
     "data": {
      "text/plain": "0.25     122.0\n0.50     926.0\n0.75    8286.0\ndtype: float64"
     },
     "execution_count": 18,
     "metadata": {},
     "output_type": "execute_result"
    }
   ],
   "source": [
    "### Compute the quantiles themselves\n",
    "large_counts_series = pd.Series(large_counts)\n",
    "large_counts_series.quantile([0.25, 0.5, 0.75])"
   ]
  },
  {
   "cell_type": "markdown",
   "metadata": {},
   "source": [
    "## 对数转换\n",
    "\n",
    "在“量化或装箱”中，我们简要地介绍了把计数的对数映射到指数宽度箱的概念。让我们现在再看一看。\n",
    "\n",
    "对数函数是指数函数的逆。它定义为$\\log _{a}\\left({a}^{x}\\right)=X$\n",
    "其中 $a$ 为正常数, $x$ 可以是任何正数。由于$a^0=1$,我们有$\\log _{{a}}(1)=0$。这意味着对数函数将小范围的数字 (0、1) 映射到负数的整个范围$(-\\infty, 0)$。函数$\\log _{{a}}(10)=0$ 将 $[1、10]$ 映射到 $[0、1]$、将$[10、100]$ 映射到 $[1、2]$ 等等。换言之, 对数函数压缩大数的范围, 并扩展小数的范围。越大的 $x$ , $log(x)$的增量越慢。通过查看 $log$ 函数的图像, 可以更容易地消化这一点。(见图2-6)。\n",
    "\n",
    "\n",
    "![](data:image/png;base64,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)\n",
    "\n",
    "**Figure 2-6. The log function compresses the high numeric range and expands the low range. Note how the horizontal x values from 100 to 1000 got compressed into just 2.0 to 3.0 in the vertical y range, while the tiny horizontal portion of x values less than 100 are mapped to the rest of the vertical range.**\n",
    "\n",
    "对数变换是处理具有重尾分布的正数的有力工具。（重尾分布在尾部范围内的概率比高斯分布的概率大）。它将分布在高端的长尾压缩成较短的尾部，并将低端扩展成较长的头部。图2-7比较d对数转换之前和之后的YELP商户评论计数的直方图。Y轴现在都在正常（线性）尺度上。在$(0.5,1)$范围内的底部图中增加的仓间隔是由于在1和10之间只有10个可能的整数计数。请注意，原始审查计数非常集中在低计数区域，离群值在4000以上。对数变换后，直方图不集中在低端，更分散在X轴上。"
   ]
  },
  {
   "cell_type": "markdown",
   "metadata": {},
   "source": [
    "### 例2-6:可视化对数变换前后评论数分布"
   ]
  },
  {
   "cell_type": "code",
   "execution_count": 19,
   "metadata": {},
   "outputs": [
    {
     "data": {
      "text/plain": "Text(23.625, 0.5, 'Occurrence')"
     },
     "execution_count": 19,
     "metadata": {},
     "output_type": "execute_result"
    },
    {
     "data": {
      "text/plain": "<Figure size 432x288 with 2 Axes>",
      "image/png": "[encoded data removed]"
     },
     "metadata": {},
     "output_type": "display_data"
    }
   ],
   "source": [
    "fig, (ax1, ax2) = plt.subplots(2,1)\n",
    "fig.tight_layout(pad=0, w_pad=4.0, h_pad=4.0)\n",
    "biz_df['review_count'].hist(ax=ax1, bins=100)\n",
    "ax1.tick_params(labelsize=14)\n",
    "ax1.set_xlabel('review_count', fontsize=14)\n",
    "ax1.set_ylabel('Occurrence', fontsize=14)\n",
    "biz_df['log_review_count'] = np.log(biz_df['review_count'] + 1)\n",
    "biz_df['log_review_count'].hist(ax=ax2, bins=100)\n",
    "ax2.tick_params(labelsize=14)\n",
    "ax2.set_xlabel('log10(review_count))', fontsize=14)\n",
    "ax2.set_ylabel('Occurrence', fontsize=14)"
   ]
  },
  {
   "cell_type": "markdown",
   "metadata": {},
   "source": [
    "**Figure 2-7. Comparison of Yelp business review counts before (top) and after (bottom) log transformation.**"
   ]
  },
  {
   "cell_type": "markdown",
   "metadata": {},
   "source": [
    "另一个例子是来自 UC Irvine 机器学习库的在线新闻流行数据集。以下是有关数据集的相关统计信息。\n",
    "\n",
    "### 在线新闻流行数据集的统计\n",
    "\n",
    "- 该数据集包括 MasHabor 在两年的时间内出版的 39797 个新闻文章的60个特征。\n",
    "- 引证: K. Fernandes, P. Vinagre 和 P. Cortez . 一种用于预测在线新闻的流行程度的主动智能决策支持系统。2015 第十七届 EPIA 活动, 葡萄牙人工智能会议论文集, 9月, 葡萄牙科英布拉。\n",
    "\n",
    "目的是利用这些特征来预测文章在社交媒体上的用分享数量表示的流行度。在本例中, 我们将只关注一个特征——文章中的单词数。图2-8 显示了对数转换前后特征的直方图。请注意, 在对数转换后, 分布看起来更高斯, 除了长度为零的文章 (无内容) 的断裂。"
   ]
  },
  {
   "cell_type": "code",
   "execution_count": 20,
   "metadata": {},
   "outputs": [
    {
     "name": "stderr",
     "output_type": "stream",
     "text": [
      "d:\\pyprojectin\\pytorch\\venv\\lib\\site-packages\\pandas\\util\\_decorators.py:311: ParserWarning: Falling back to the 'python' engine because the 'c' engine does not support regex separators (separators > 1 char and different from '\\s+' are interpreted as regex); you can avoid this warning by specifying engine='python'.\n",
      "  return func(*args, **kwargs)\n"
     ]
    },
    {
     "ename": "FileNotFoundError",
     "evalue": "[Errno 2] No such file or directory: 'data/OnlineNewsPopularity.csv'",
     "output_type": "error",
     "traceback": [
      "\u001B[1;31m---------------------------------------------------------------------------\u001B[0m",
      "\u001B[1;31mFileNotFoundError\u001B[0m                         Traceback (most recent call last)",
      "\u001B[1;32m~\\AppData\\Local\\Temp/ipykernel_11220/1291533433.py\u001B[0m in \u001B[0;36m<module>\u001B[1;34m\u001B[0m\n\u001B[1;32m----> 1\u001B[1;33m \u001B[0mdf\u001B[0m \u001B[1;33m=\u001B[0m \u001B[0mpd\u001B[0m\u001B[1;33m.\u001B[0m\u001B[0mread_csv\u001B[0m\u001B[1;33m(\u001B[0m\u001B[1;34m'data/OnlineNewsPopularity.csv'\u001B[0m\u001B[1;33m,\u001B[0m \u001B[0mdelimiter\u001B[0m\u001B[1;33m=\u001B[0m\u001B[1;34m', '\u001B[0m\u001B[1;33m)\u001B[0m\u001B[1;33m\u001B[0m\u001B[1;33m\u001B[0m\u001B[0m\n\u001B[0m\u001B[0;32m      2\u001B[0m \u001B[1;33m\u001B[0m\u001B[0m\n",
      "\u001B[1;32md:\\pyprojectin\\pytorch\\venv\\lib\\site-packages\\pandas\\util\\_decorators.py\u001B[0m in \u001B[0;36mwrapper\u001B[1;34m(*args, **kwargs)\u001B[0m\n\u001B[0;32m    309\u001B[0m                     \u001B[0mstacklevel\u001B[0m\u001B[1;33m=\u001B[0m\u001B[0mstacklevel\u001B[0m\u001B[1;33m,\u001B[0m\u001B[1;33m\u001B[0m\u001B[1;33m\u001B[0m\u001B[0m\n\u001B[0;32m    310\u001B[0m                 )\n\u001B[1;32m--> 311\u001B[1;33m             \u001B[1;32mreturn\u001B[0m \u001B[0mfunc\u001B[0m\u001B[1;33m(\u001B[0m\u001B[1;33m*\u001B[0m\u001B[0margs\u001B[0m\u001B[1;33m,\u001B[0m \u001B[1;33m**\u001B[0m\u001B[0mkwargs\u001B[0m\u001B[1;33m)\u001B[0m\u001B[1;33m\u001B[0m\u001B[1;33m\u001B[0m\u001B[0m\n\u001B[0m\u001B[0;32m    312\u001B[0m \u001B[1;33m\u001B[0m\u001B[0m\n\u001B[0;32m    313\u001B[0m         \u001B[1;32mreturn\u001B[0m \u001B[0mwrapper\u001B[0m\u001B[1;33m\u001B[0m\u001B[1;33m\u001B[0m\u001B[0m\n",
      "\u001B[1;32md:\\pyprojectin\\pytorch\\venv\\lib\\site-packages\\pandas\\io\\parsers\\readers.py\u001B[0m in \u001B[0;36mread_csv\u001B[1;34m(filepath_or_buffer, sep, delimiter, header, names, index_col, usecols, squeeze, prefix, mangle_dupe_cols, dtype, engine, converters, true_values, false_values, skipinitialspace, skiprows, skipfooter, nrows, na_values, keep_default_na, na_filter, verbose, skip_blank_lines, parse_dates, infer_datetime_format, keep_date_col, date_parser, dayfirst, cache_dates, iterator, chunksize, compression, thousands, decimal, lineterminator, quotechar, quoting, doublequote, escapechar, comment, encoding, encoding_errors, dialect, error_bad_lines, warn_bad_lines, on_bad_lines, delim_whitespace, low_memory, memory_map, float_precision, storage_options)\u001B[0m\n\u001B[0;32m    584\u001B[0m     \u001B[0mkwds\u001B[0m\u001B[1;33m.\u001B[0m\u001B[0mupdate\u001B[0m\u001B[1;33m(\u001B[0m\u001B[0mkwds_defaults\u001B[0m\u001B[1;33m)\u001B[0m\u001B[1;33m\u001B[0m\u001B[1;33m\u001B[0m\u001B[0m\n\u001B[0;32m    585\u001B[0m \u001B[1;33m\u001B[0m\u001B[0m\n\u001B[1;32m--> 586\u001B[1;33m     \u001B[1;32mreturn\u001B[0m \u001B[0m_read\u001B[0m\u001B[1;33m(\u001B[0m\u001B[0mfilepath_or_buffer\u001B[0m\u001B[1;33m,\u001B[0m \u001B[0mkwds\u001B[0m\u001B[1;33m)\u001B[0m\u001B[1;33m\u001B[0m\u001B[1;33m\u001B[0m\u001B[0m\n\u001B[0m\u001B[0;32m    587\u001B[0m \u001B[1;33m\u001B[0m\u001B[0m\n\u001B[0;32m    588\u001B[0m \u001B[1;33m\u001B[0m\u001B[0m\n",
      "\u001B[1;32md:\\pyprojectin\\pytorch\\venv\\lib\\site-packages\\pandas\\io\\parsers\\readers.py\u001B[0m in \u001B[0;36m_read\u001B[1;34m(filepath_or_buffer, kwds)\u001B[0m\n\u001B[0;32m    480\u001B[0m \u001B[1;33m\u001B[0m\u001B[0m\n\u001B[0;32m    481\u001B[0m     \u001B[1;31m# Create the parser.\u001B[0m\u001B[1;33m\u001B[0m\u001B[1;33m\u001B[0m\u001B[1;33m\u001B[0m\u001B[0m\n\u001B[1;32m--> 482\u001B[1;33m     \u001B[0mparser\u001B[0m \u001B[1;33m=\u001B[0m \u001B[0mTextFileReader\u001B[0m\u001B[1;33m(\u001B[0m\u001B[0mfilepath_or_buffer\u001B[0m\u001B[1;33m,\u001B[0m \u001B[1;33m**\u001B[0m\u001B[0mkwds\u001B[0m\u001B[1;33m)\u001B[0m\u001B[1;33m\u001B[0m\u001B[1;33m\u001B[0m\u001B[0m\n\u001B[0m\u001B[0;32m    483\u001B[0m \u001B[1;33m\u001B[0m\u001B[0m\n\u001B[0;32m    484\u001B[0m     \u001B[1;32mif\u001B[0m \u001B[0mchunksize\u001B[0m \u001B[1;32mor\u001B[0m \u001B[0miterator\u001B[0m\u001B[1;33m:\u001B[0m\u001B[1;33m\u001B[0m\u001B[1;33m\u001B[0m\u001B[0m\n",
      "\u001B[1;32md:\\pyprojectin\\pytorch\\venv\\lib\\site-packages\\pandas\\io\\parsers\\readers.py\u001B[0m in \u001B[0;36m__init__\u001B[1;34m(self, f, engine, **kwds)\u001B[0m\n\u001B[0;32m    809\u001B[0m             \u001B[0mself\u001B[0m\u001B[1;33m.\u001B[0m\u001B[0moptions\u001B[0m\u001B[1;33m[\u001B[0m\u001B[1;34m\"has_index_names\"\u001B[0m\u001B[1;33m]\u001B[0m \u001B[1;33m=\u001B[0m \u001B[0mkwds\u001B[0m\u001B[1;33m[\u001B[0m\u001B[1;34m\"has_index_names\"\u001B[0m\u001B[1;33m]\u001B[0m\u001B[1;33m\u001B[0m\u001B[1;33m\u001B[0m\u001B[0m\n\u001B[0;32m    810\u001B[0m \u001B[1;33m\u001B[0m\u001B[0m\n\u001B[1;32m--> 811\u001B[1;33m         \u001B[0mself\u001B[0m\u001B[1;33m.\u001B[0m\u001B[0m_engine\u001B[0m \u001B[1;33m=\u001B[0m \u001B[0mself\u001B[0m\u001B[1;33m.\u001B[0m\u001B[0m_make_engine\u001B[0m\u001B[1;33m(\u001B[0m\u001B[0mself\u001B[0m\u001B[1;33m.\u001B[0m\u001B[0mengine\u001B[0m\u001B[1;33m)\u001B[0m\u001B[1;33m\u001B[0m\u001B[1;33m\u001B[0m\u001B[0m\n\u001B[0m\u001B[0;32m    812\u001B[0m \u001B[1;33m\u001B[0m\u001B[0m\n\u001B[0;32m    813\u001B[0m     \u001B[1;32mdef\u001B[0m \u001B[0mclose\u001B[0m\u001B[1;33m(\u001B[0m\u001B[0mself\u001B[0m\u001B[1;33m)\u001B[0m\u001B[1;33m:\u001B[0m\u001B[1;33m\u001B[0m\u001B[1;33m\u001B[0m\u001B[0m\n",
      "\u001B[1;32md:\\pyprojectin\\pytorch\\venv\\lib\\site-packages\\pandas\\io\\parsers\\readers.py\u001B[0m in \u001B[0;36m_make_engine\u001B[1;34m(self, engine)\u001B[0m\n\u001B[0;32m   1038\u001B[0m             )\n\u001B[0;32m   1039\u001B[0m         \u001B[1;31m# error: Too many arguments for \"ParserBase\"\u001B[0m\u001B[1;33m\u001B[0m\u001B[1;33m\u001B[0m\u001B[1;33m\u001B[0m\u001B[0m\n\u001B[1;32m-> 1040\u001B[1;33m         \u001B[1;32mreturn\u001B[0m \u001B[0mmapping\u001B[0m\u001B[1;33m[\u001B[0m\u001B[0mengine\u001B[0m\u001B[1;33m]\u001B[0m\u001B[1;33m(\u001B[0m\u001B[0mself\u001B[0m\u001B[1;33m.\u001B[0m\u001B[0mf\u001B[0m\u001B[1;33m,\u001B[0m \u001B[1;33m**\u001B[0m\u001B[0mself\u001B[0m\u001B[1;33m.\u001B[0m\u001B[0moptions\u001B[0m\u001B[1;33m)\u001B[0m  \u001B[1;31m# type: ignore[call-arg]\u001B[0m\u001B[1;33m\u001B[0m\u001B[1;33m\u001B[0m\u001B[0m\n\u001B[0m\u001B[0;32m   1041\u001B[0m \u001B[1;33m\u001B[0m\u001B[0m\n\u001B[0;32m   1042\u001B[0m     \u001B[1;32mdef\u001B[0m \u001B[0m_failover_to_python\u001B[0m\u001B[1;33m(\u001B[0m\u001B[0mself\u001B[0m\u001B[1;33m)\u001B[0m\u001B[1;33m:\u001B[0m\u001B[1;33m\u001B[0m\u001B[1;33m\u001B[0m\u001B[0m\n",
      "\u001B[1;32md:\\pyprojectin\\pytorch\\venv\\lib\\site-packages\\pandas\\io\\parsers\\python_parser.py\u001B[0m in \u001B[0;36m__init__\u001B[1;34m(self, f, **kwds)\u001B[0m\n\u001B[0;32m     94\u001B[0m             \u001B[0mself\u001B[0m\u001B[1;33m.\u001B[0m\u001B[0mdata\u001B[0m \u001B[1;33m=\u001B[0m \u001B[0mcast\u001B[0m\u001B[1;33m(\u001B[0m\u001B[0mIterator\u001B[0m\u001B[1;33m[\u001B[0m\u001B[0mstr\u001B[0m\u001B[1;33m]\u001B[0m\u001B[1;33m,\u001B[0m \u001B[0mf\u001B[0m\u001B[1;33m)\u001B[0m\u001B[1;33m\u001B[0m\u001B[1;33m\u001B[0m\u001B[0m\n\u001B[0;32m     95\u001B[0m         \u001B[1;32melse\u001B[0m\u001B[1;33m:\u001B[0m\u001B[1;33m\u001B[0m\u001B[1;33m\u001B[0m\u001B[0m\n\u001B[1;32m---> 96\u001B[1;33m             \u001B[0mself\u001B[0m\u001B[1;33m.\u001B[0m\u001B[0m_open_handles\u001B[0m\u001B[1;33m(\u001B[0m\u001B[0mf\u001B[0m\u001B[1;33m,\u001B[0m \u001B[0mkwds\u001B[0m\u001B[1;33m)\u001B[0m\u001B[1;33m\u001B[0m\u001B[1;33m\u001B[0m\u001B[0m\n\u001B[0m\u001B[0;32m     97\u001B[0m             \u001B[1;32massert\u001B[0m \u001B[0mself\u001B[0m\u001B[1;33m.\u001B[0m\u001B[0mhandles\u001B[0m \u001B[1;32mis\u001B[0m \u001B[1;32mnot\u001B[0m \u001B[1;32mNone\u001B[0m\u001B[1;33m\u001B[0m\u001B[1;33m\u001B[0m\u001B[0m\n\u001B[0;32m     98\u001B[0m             \u001B[1;32massert\u001B[0m \u001B[0mhasattr\u001B[0m\u001B[1;33m(\u001B[0m\u001B[0mself\u001B[0m\u001B[1;33m.\u001B[0m\u001B[0mhandles\u001B[0m\u001B[1;33m.\u001B[0m\u001B[0mhandle\u001B[0m\u001B[1;33m,\u001B[0m \u001B[1;34m\"readline\"\u001B[0m\u001B[1;33m)\u001B[0m\u001B[1;33m\u001B[0m\u001B[1;33m\u001B[0m\u001B[0m\n",
      "\u001B[1;32md:\\pyprojectin\\pytorch\\venv\\lib\\site-packages\\pandas\\io\\parsers\\base_parser.py\u001B[0m in \u001B[0;36m_open_handles\u001B[1;34m(self, src, kwds)\u001B[0m\n\u001B[0;32m    220\u001B[0m         \u001B[0mLet\u001B[0m \u001B[0mthe\u001B[0m \u001B[0mreaders\u001B[0m \u001B[0mopen\u001B[0m \u001B[0mIOHandles\u001B[0m \u001B[0mafter\u001B[0m \u001B[0mthey\u001B[0m \u001B[0mare\u001B[0m \u001B[0mdone\u001B[0m \u001B[1;32mwith\u001B[0m \u001B[0mtheir\u001B[0m \u001B[0mpotential\u001B[0m \u001B[0mraises\u001B[0m\u001B[1;33m.\u001B[0m\u001B[1;33m\u001B[0m\u001B[1;33m\u001B[0m\u001B[0m\n\u001B[0;32m    221\u001B[0m         \"\"\"\n\u001B[1;32m--> 222\u001B[1;33m         self.handles = get_handle(\n\u001B[0m\u001B[0;32m    223\u001B[0m             \u001B[0msrc\u001B[0m\u001B[1;33m,\u001B[0m\u001B[1;33m\u001B[0m\u001B[1;33m\u001B[0m\u001B[0m\n\u001B[0;32m    224\u001B[0m             \u001B[1;34m\"r\"\u001B[0m\u001B[1;33m,\u001B[0m\u001B[1;33m\u001B[0m\u001B[1;33m\u001B[0m\u001B[0m\n",
      "\u001B[1;32md:\\pyprojectin\\pytorch\\venv\\lib\\site-packages\\pandas\\io\\common.py\u001B[0m in \u001B[0;36mget_handle\u001B[1;34m(path_or_buf, mode, encoding, compression, memory_map, is_text, errors, storage_options)\u001B[0m\n\u001B[0;32m    700\u001B[0m         \u001B[1;32mif\u001B[0m \u001B[0mioargs\u001B[0m\u001B[1;33m.\u001B[0m\u001B[0mencoding\u001B[0m \u001B[1;32mand\u001B[0m \u001B[1;34m\"b\"\u001B[0m \u001B[1;32mnot\u001B[0m \u001B[1;32min\u001B[0m \u001B[0mioargs\u001B[0m\u001B[1;33m.\u001B[0m\u001B[0mmode\u001B[0m\u001B[1;33m:\u001B[0m\u001B[1;33m\u001B[0m\u001B[1;33m\u001B[0m\u001B[0m\n\u001B[0;32m    701\u001B[0m             \u001B[1;31m# Encoding\u001B[0m\u001B[1;33m\u001B[0m\u001B[1;33m\u001B[0m\u001B[1;33m\u001B[0m\u001B[0m\n\u001B[1;32m--> 702\u001B[1;33m             handle = open(\n\u001B[0m\u001B[0;32m    703\u001B[0m                 \u001B[0mhandle\u001B[0m\u001B[1;33m,\u001B[0m\u001B[1;33m\u001B[0m\u001B[1;33m\u001B[0m\u001B[0m\n\u001B[0;32m    704\u001B[0m                 \u001B[0mioargs\u001B[0m\u001B[1;33m.\u001B[0m\u001B[0mmode\u001B[0m\u001B[1;33m,\u001B[0m\u001B[1;33m\u001B[0m\u001B[1;33m\u001B[0m\u001B[0m\n",
      "\u001B[1;31mFileNotFoundError\u001B[0m: [Errno 2] No such file or directory: 'data/OnlineNewsPopularity.csv'"
     ]
    }
   ],
   "source": [
    "df = pd.read_csv('data/OnlineNewsPopularity.csv', delimiter=', ')"
   ]
  },
  {
   "cell_type": "code",
   "execution_count": null,
   "metadata": {},
   "outputs": [],
   "source": [
    "df.head()"
   ]
  },
  {
   "cell_type": "code",
   "execution_count": null,
   "metadata": {},
   "outputs": [],
   "source": [
    "df['log_n_tokens_content'] = np.log10(df['n_tokens_content'] + 1)"
   ]
  },
  {
   "cell_type": "markdown",
   "metadata": {},
   "source": [
    "### 例2-7:可视化在有对数变换和没有对数变换时新闻文章流行度的分布"
   ]
  },
  {
   "cell_type": "code",
   "execution_count": null,
   "metadata": {},
   "outputs": [],
   "source": [
    "fig, (ax1, ax2) = plt.subplots(2,1)\n",
    "fig.tight_layout(pad=0, w_pad=4.0, h_pad=4.0)\n",
    "df['n_tokens_content'].hist(ax=ax1, bins=100)\n",
    "ax1.tick_params(labelsize=14)\n",
    "ax1.set_xlabel('Number of Words in Article', fontsize=14)\n",
    "ax1.set_ylabel('Number of Articles', fontsize=14)\n",
    "\n",
    "df['log_n_tokens_content'].hist(ax=ax2, bins=100)\n",
    "ax2.tick_params(labelsize=14)\n",
    "ax2.set_xlabel('Log of Number of Words', fontsize=14)\n",
    "ax2.set_ylabel('Number of Articles', fontsize=14)"
   ]
  },
  {
   "cell_type": "markdown",
   "metadata": {},
   "source": [
    "**Figure 2-8. Comparison of word counts in Mashable news articles before (top) and after (bottom) log transformation.**\n",
    "\n",
    "## 对数转换实战\n",
    "\n",
    "让我们看看在监督学习中对数转换如何执行。我们将使用上面的两个数据集。对于 Yelp 评论数据集, 我们将使用评论的数量来预测商户的平均评级。对于 Mashable 的新闻文章, 我们将使用文章中的字数来预测其流行程度。由于输出是连续的数字, 我们将使用简单的线性回归作为模型。我们在没有对数变换和有对数变换的特色上，使用 Scikit Learn 执行10折交叉验证的线性回归。模型由 R 方评分来评估, 它测量训练后的回归模型预测新数据的良好程度。好的模型有较高的 R 方分数。一个完美的模型得到最高分1。分数可以是负的, 一个坏的模型可以得到一个任意低的负评分。通过交叉验证, 我们不仅得到了分数的估计, 还获得了方差, 这有助于我们判断两种模型之间的差异是否有意义。\n",
    "\n",
    "### 例2-8:使用对数转换 YELP 评论数预测平均商户评级"
   ]
  },
  {
   "cell_type": "code",
   "execution_count": null,
   "metadata": {},
   "outputs": [],
   "source": [
    "import pandas as pd\n",
    "import numpy as np\n",
    "import json\n",
    "from sklearn import linear_model\n",
    "from sklearn.model_selection import cross_val_score"
   ]
  },
  {
   "cell_type": "code",
   "execution_count": null,
   "metadata": {},
   "outputs": [],
   "source": [
    "## Using the previously loaded Yelp reviews dataframe,\n",
    "## compute the log transform of the Yelp review count.\n",
    "## Note that we add 1 to the raw count to prevent the logarithm from\n",
    "## exploding into negative infinity in case the count is zero.\n",
    "biz_df['log_review_count'] = np.log10(biz_df['review_count'] + 1)"
   ]
  },
  {
   "cell_type": "code",
   "execution_count": null,
   "metadata": {},
   "outputs": [],
   "source": [
    "biz_df.head()"
   ]
  },
  {
   "cell_type": "code",
   "execution_count": null,
   "metadata": {},
   "outputs": [],
   "source": [
    "## Train linear regression models to predict the average stars rating of a business,\n",
    "## using the review_count feature with and without log transformation\n",
    "## Compare the 10-fold cross validation score of the two models\n",
    "m_orig = linear_model.LinearRegression()\n",
    "scores_orig = cross_val_score(\n",
    "    m_orig, biz_df[['review_count']], biz_df['stars'], cv=10)\n",
    "m_log = linear_model.LinearRegression()\n",
    "scores_log = cross_val_score(\n",
    "    m_log, biz_df[['log_review_count']], biz_df['stars'], cv=10)\n",
    "print(\"R-squared score without log transform: %0.5f (+/- %0.5f)\" %\n",
    "      (scores_orig.mean(), scores_orig.std() * 2))\n",
    "print(\"R-squared score with log transform: %0.5f (+/- %0.5f)\" %\n",
    "      (scores_log.mean(), scores_log.std() * 2))"
   ]
  },
  {
   "cell_type": "markdown",
   "metadata": {},
   "source": [
    "从实验的结果来看, 两个简单的模型 (有对数变换和没有对数变换) 在预测目标时同样不好, 而有对数变换的特征表现略差。真令人失望!这并不奇怪, 他们都不是很好, 因为他们都只使用一个功能。但是, 人们本来希望日志转换的功能执行得更好。\n",
    "\n",
    "让我们看看对数转换在线新闻流行数据集上如何表现。\n",
    "\n",
    "### 例2-9:利用经过对数转换在线新闻数据中的词数量预测文章流行度"
   ]
  },
  {
   "cell_type": "code",
   "execution_count": null,
   "metadata": {},
   "outputs": [],
   "source": [
    "## Download the Online News Popularirty dataset from UCI, then use\n",
    "## Pandas to load the file into a dataframe\n",
    "\n",
    "## Take the log transform of the 'n_tokens_content' feature, which\n",
    "## represents the number of words (tokens) in a news article.\n",
    "df['log_n_tokens_content'] = np.log10(df['n_tokens_content'] + 1)\n",
    "\n",
    "## Train two linear regression models to predict the number of shares\n",
    "## of an article, one using the original feature and the other the\n",
    "## log transformed version.\n",
    "m_orig = linear_model.LinearRegression()\n",
    "scores_orig = cross_val_score(\n",
    "    m_orig, df[['n_tokens_content']], df['shares'], cv=10)\n",
    "m_log = linear_model.LinearRegression()\n",
    "scores_log = cross_val_score(\n",
    "    m_log, df[['log_n_tokens_content']], df['shares'], cv=10)\n",
    "print(\"R-squared score without log transform: %0.5f (+/- %0.5f)\" %\n",
    "      (scores_orig.mean(), scores_orig.std() * 2))\n",
    "print(\"R-squared score with log transform: %0.5f (+/- %0.5f)\" %\n",
    "      (scores_log.mean(), scores_log.std() * 2))"
   ]
  },
  {
   "cell_type": "markdown",
   "metadata": {},
   "source": [
    "置信区间仍然重叠，但具有对数变换特征的模型比没有对数变换的表现更好。为什么对数转换在这个数据集上更成功？我们可以通过观察输入特征和目标值的散点图来得到线索。如图2-9的底部面板所示，对数变换重塑了$X$轴，将目标值（大于200000个份额）中的大离群值进一步拉向轴的右手侧。这给线性模型在输入特征空间的低端更多的“呼吸空间”。没有对数转换（上部面板），在输入值变化下非常小的情况下，模型有更大的压力下适应非常不同的目标值。"
   ]
  },
  {
   "cell_type": "markdown",
   "metadata": {},
   "source": [
    "### 例2-10:可视化新闻流程度预测问题中输入输出相关性"
   ]
  },
  {
   "cell_type": "code",
   "execution_count": null,
   "metadata": {},
   "outputs": [],
   "source": [
    "fig2, (ax1, ax2) = plt.subplots(2, 1,figsize=(10, 4))\n",
    "fig.tight_layout(pad=0.4, w_pad=4.0, h_pad=6.0)\n",
    "ax1.scatter(df['n_tokens_content'], df['shares'])\n",
    "ax1.tick_params(labelsize=14)\n",
    "ax1.set_xlabel('Number of Words in Article', fontsize=14)\n",
    "ax1.set_ylabel('Number of Shares', fontsize=14)\n",
    "\n",
    "ax2.scatter(df['log_n_tokens_content'], df['shares'])\n",
    "ax2.tick_params(labelsize=14)\n",
    "ax2.set_xlabel('Log of the Number of Words in Article', fontsize=14)\n",
    "ax2.set_ylabel('Number of Shares', fontsize=14)"
   ]
  },
  {
   "cell_type": "markdown",
   "metadata": {},
   "source": [
    "\n",
    "**Figure 2-9. Scatter plot of number of words (input) vs. number of shares (target) in the Online News dataset. The top plot visualizes the original feature, and the bottom plot shows the scatter plot after log transformation.**"
   ]
  },
  {
   "cell_type": "markdown",
   "metadata": {},
   "source": [
    "将此与应用于YELP评论数据集的相同散点图进行比较。图2-10看起来与图2-9非常不同。在1到5，步长0.5的区间，平均星级是离散的。高评论计数（大致＞2500评论）与较高的平均星级评级相关。但这种关系远不是线性的。没有一种清晰的方法可以根据输入来预测平均星级。从本质上讲，该图表明，评论数及其对数都是平均星级的不良线性预测因子。"
   ]
  },
  {
   "cell_type": "code",
   "execution_count": null,
   "metadata": {},
   "outputs": [],
   "source": [
    "### 例2-11。可视化 Yelp 商户评论预测中输入与输出的相关性。\n",
    "fig, (ax1, ax2) = plt.subplots(2,1)\n",
    "fig.tight_layout(pad=0, w_pad=4.0, h_pad=4.0)\n",
    "ax1.scatter(biz_df['review_count'], biz_df['stars'])\n",
    "ax1.tick_params(labelsize=14)\n",
    "ax1.set_xlabel('Review Count', fontsize=14)\n",
    "ax1.set_ylabel('Average Star Rating', fontsize=14)\n",
    "\n",
    "ax2.scatter(biz_df['log_review_count'], biz_df['stars'])\n",
    "ax2.tick_params(labelsize=14)\n",
    "ax2.set_xlabel('Log of Review Count', fontsize=14)\n",
    "ax2.set_ylabel('Average Star Rating', fontsize=14)"
   ]
  },
  {
   "cell_type": "markdown",
   "metadata": {},
   "source": [
    "**Figure 2-10. Scatter plot of review counts (input) vs. average star ratings (target) in the Yelp Reviews dataset. The top panel plots the original review count, and the bottom panel plots the review count after log transformation.**"
   ]
  },
  {
   "cell_type": "markdown",
   "metadata": {},
   "source": [
    "## 数据可视化的重要性\n",
    "\n",
    "对数变换在两个不同数据集上的影响的比较，说明了可视化数据的重要性。在这里，我们故意保持输入和目标变量简单，以便我们可以很容易地可视化它们之间的关系。如图2-10所示的曲线，立即显示所选择的模型（线性）不可能代表所选择的输入和目标之间的关系。另一方面，人们可以令人信服地在给定平均星级模拟评论数的分布。在建立模型时，最好直观地检查输入和输出之间的关系，以及不同输入特征之间的关系。\n",
    "\n",
    "### 功率变换：对数变换的推广\n",
    "\n",
    "对数变换是一个称为功率变换的变换族的特殊例子。在统计方面，这些是方差稳定的变换。为了理解为什么方差稳定是好的，考虑泊松分布。这是一个方差等于它的平均值的重尾分布。因此，它的质量中心越大，其方差越大，尾部越重。功率变换改变变量的分布，使得方差不再依赖于平均值。例如，假设一个随机变量X具有泊松分布。假如我们使用开平方根变换$X$, $\\widetilde{X}=\\sqrt{X}$的方差大致是恒定的, 而不是等于平均值。\n",
    "\n",
    "![](../images/chapter2/2-11.png)\n",
    "\n",
    "**Figure 2-11. A rough illustration of the Poisson distribution. λ represents the mean of the distribution. As λ increases, not only does the mode of of the distribution shift to the right, but the mass spreads out and the variance becomes larger. The Poisson distribution is an example distribution where the variance increases along with the mean.**\n",
    "\n",
    "平方根变换和对数变换的简单推广称为Box-Cox变换：\n",
    "$$\n",
    "\\tilde{x}=\\left\\{\\begin{array}{ll}{\\frac{x^{2}-1}{\\lambda}} & {\\text { if } \\lambda \\neq 0} \\\\ {\\ln (x)} & {\\text { if } \\lambda=0}\\end{array}\\right.\n",
    "$$\n",
    "\n",
    "\n",
    "图2-12， 展示出了在  $\\lambda =0$（log变换），$\\lambda =0.25$,$\\lambda =0.5$（平方根的缩放和移位版本），$\\lambda =0.75$, 和$\\lambda =1.5$时的Box-Cox变换。设置$\\lambda$ 小于1时压缩较高的值，并且设置$\\lambda$大于1时具有相反的效果。\n",
    "\n",
    "![](images/chapter2/2-12.png)\n",
    "\n",
    "**Figure 2-12. Box-Cox transforms for different values of $\\lambda$.**\n",
    "\n",
    "只有当数据为正值时, Box-Cox 公式才能工作。对于非正数据, 可以通过加上固定常量来移动数值。当应用 Box-Cox 变换或更一般的功率变换时, 我们必须确定参数 $\\lambda$ 的值。这可能是通过最大似然(找到的$\\lambda$,使产生的变换信号的高斯似然最大) 或贝叶斯方法。完全介绍 Box-Cox 和一般功率变换的使用超出了本书的范围。感兴趣的读者可以通过 Jack Johnston 和John DiNardo (McGraw Hill) 编写的Econometric Methods 找到更多关于幂转换的信息。幸运的是, Scipy 的数据包包含了一个 Box-Cox 转换的实现, 其中包括查找最佳变换参数。"
   ]
  },
  {
   "cell_type": "markdown",
   "metadata": {},
   "source": [
    "### 例2-12:Yelp商户评论数的 Box-Cox 变换"
   ]
  },
  {
   "cell_type": "code",
   "execution_count": null,
   "metadata": {},
   "outputs": [],
   "source": [
    "from scipy import stats\n",
    "\n",
    "# Continuing from the previous example, assume biz_df contains\n",
    "# the Yelp business reviews data\n",
    "# Box-Cox transform assumes that input data is positive.\n",
    "# Check the min to make sure.\n",
    "biz_df['review_count'].min()"
   ]
  },
  {
   "cell_type": "code",
   "execution_count": null,
   "metadata": {},
   "outputs": [],
   "source": [
    "biz_df.columns"
   ]
  },
  {
   "cell_type": "code",
   "execution_count": null,
   "metadata": {},
   "outputs": [],
   "source": [
    "# Setting input parameter lmbda to 0 gives us the log transform (without constant offset)\n",
    "rc_log = stats.boxcox(biz_df['review_count'], lmbda=0)"
   ]
  },
  {
   "cell_type": "code",
   "execution_count": null,
   "metadata": {},
   "outputs": [],
   "source": [
    "biz_df['rc_log']=rc_log"
   ]
  },
  {
   "cell_type": "code",
   "execution_count": null,
   "metadata": {},
   "outputs": [],
   "source": [
    "# By default, the scipy implementation of Box-Cox transform finds the lmbda parameter\n",
    "# that will make the output the closest to a normal distribution\n",
    "rc_bc, bc_params = stats.boxcox(biz_df['review_count'])\n",
    "bc_params"
   ]
  },
  {
   "cell_type": "code",
   "execution_count": null,
   "metadata": {},
   "outputs": [],
   "source": [
    "biz_df['rc_bc']=rc_bc"
   ]
  },
  {
   "cell_type": "markdown",
   "metadata": {},
   "source": [
    "图2-13 提供了原始和转换评论数分布的可视化比较。"
   ]
  },
  {
   "cell_type": "code",
   "execution_count": null,
   "metadata": {},
   "outputs": [],
   "source": [
    "### 例2-13。可视化评论数的原始、对数转换和 Box-Cox 转换的直方图。\n",
    "\n",
    "fig, (ax1, ax2, ax3) = plt.subplots(3, 1)\n",
    "fig.tight_layout(pad=0, w_pad=4.0, h_pad=4.0)\n",
    "# original review count histogram\n",
    "biz_df['review_count'].hist(ax=ax1, bins=100)\n",
    "ax1.set_yscale('log')\n",
    "ax1.tick_params(labelsize=14)\n",
    "ax1.set_title('Review Counts Histogram', fontsize=14)\n",
    "ax1.set_xlabel('')\n",
    "ax1.set_ylabel('Occurrence', fontsize=14)\n",
    "\n",
    "# review count after log transform\n",
    "biz_df['rc_log'].hist(ax=ax2, bins=100)\n",
    "ax2.set_yscale('log')\n",
    "ax2.tick_params(labelsize=14)\n",
    "ax2.set_title('Log Transformed Counts Histogram', fontsize=14)\n",
    "ax2.set_xlabel('')\n",
    "ax2.set_ylabel('Occurrence', fontsize=14)\n",
    "\n",
    "# review count after optimal Box-Cox transform\n",
    "biz_df['rc_bc'].hist(ax=ax3, bins=100)\n",
    "ax3.set_yscale('log')\n",
    "ax3.tick_params(labelsize=14)\n",
    "ax3.set_title('Box-Cox Transformed Counts Histogram', fontsize=14)\n",
    "ax3.set_xlabel('')\n",
    "ax3.set_ylabel('Occurrence', fontsize=14)"
   ]
  },
  {
   "cell_type": "markdown",
   "metadata": {},
   "source": [
    "**Figure 2-13. Box-Cox transformation of Yelp business review counts.**\n",
    "\n",
    "概率图是一种直观地比较数据分布与理论分布的简单方法。这本质上是观察到散点图的与理论分位数。图2-14显示YELP评论数的原始数据和转换后数据相对正态分布的概率图。由于观测数据是严格正的，高斯可以是负的，所以分位数在负端上永远不会匹配。所以我们关注的是正数这的一边。在这方面，原始评论数明显比正常分布更重尾。（有序值上升到4000，而理论位数仅延伸到4）。简单的对数变换和最优的 Box-Cox 变换都使正尾部接近正态分布。最优的 Box-Cox 变换比对数变换更缩小尾部，由于尾部在红色对角线等值线下平展可以明显看出。"
   ]
  },
  {
   "cell_type": "markdown",
   "metadata": {},
   "source": [
    "### 例 2-14:原始和变换后的数据相对正态分布的概率图"
   ]
  },
  {
   "cell_type": "code",
   "execution_count": null,
   "metadata": {},
   "outputs": [],
   "source": [
    "\n",
    "fig2, (ax1, ax2, ax3) = plt.subplots(3, 1, figsize=(8, 6))\n",
    "# fig.tight_layout(pad=4, w_pad=5.0, h_pad=0.0)\n",
    "prob1 = stats.probplot(biz_df['review_count'], dist=stats.norm, plot=ax1)\n",
    "ax1.set_xlabel('')\n",
    "ax1.set_title('Probplot against normal distribution')\n",
    "prob2 = stats.probplot(biz_df['rc_log'], dist=stats.norm, plot=ax2)\n",
    "ax2.set_xlabel('')\n",
    "ax2.set_title('Probplot after log transform')\n",
    "prob3 = stats.probplot(biz_df['rc_bc'], dist=stats.norm, plot=ax3)\n",
    "ax3.set_xlabel('Theoretical quantiles')\n",
    "ax3.set_title('Probplot after Box-Cox transform')\n"
   ]
  },
  {
   "cell_type": "markdown",
   "metadata": {},
   "source": [
    "**Figure 2-14. Comparing the distribution of raw and transformed review counts against the Normal distribution.**\n",
    "\n",
    "## 特征缩放或归一化\n",
    "\n",
    "某些特征的值有界的，如纬度或经度。其他数值特征 (如数量) 可能会在无界的情况下增加。那些关于输入是平滑函数的模型, 如线性回归、逻辑回归或任何涉及矩阵的东西, 都受输入的数值范围影响。另一方面, 基于树的模型不太在意这个。如果你的模型对输入特征的数值范围敏感, 则特征缩放可能会有所帮助。顾名思义, 特征缩放会更改特征值的数值范围。有时人们也称它为特征规范化。功能缩放通常分别针对单个特征进行。有几种常见的缩放操作, 每个类型都产生不同的特征值分布。\n",
    "\n",
    "### Min-max缩放\n",
    "\n",
    "设$X$是一个单独的特征值（即，在某些数据点中的一个特征值），以及 $min(x)$ 和 $max(x)$ ，分别是整个数据集上该特征的最小值和最大值。Min-max缩放压缩（或拉伸）所有特征值到$[0, 1 ]$的范围内。图2-15演示了这个概念。最小最大尺度的公式是\n",
    "\n",
    "$$\n",
    "\\widetilde{x}=\\frac{x-\\min (x)}{\\max (x)-\\min (x)}\n",
    "$$\n",
    "\n",
    "![](../images/chapter2/2-15.png)\n",
    "\n",
    "**Figure 2-15. Min-max scaling**\n",
    "\n",
    "### 标准化（方差缩放）\n",
    "\n",
    "特征标准化的定义为：\n",
    "\n",
    "$$\n",
    "\\widetilde{x}=\\frac{x-\\operatorname{mean}(x)}{\\operatorname{var}(x)}\n",
    "$$\n",
    "\n",
    "减去特征 (所有数据点) 的平均值并除以方差。因此, 它也可以称为方差缩放。缩放后的特征的平均值为0, 方差为1。如果原始特征具有高斯分布, 则缩放特征为标准高斯。图2-16 包含了标准化的说明。\n",
    "\n",
    "![](images/chapter2/2-16.png)\n",
    "\n",
    "**Figure 2-16. Illustration of feature standardization**\n",
    "\n",
    "## 不要中心化稀疏数据\n",
    "\n",
    "最小最大缩放和标准化都从原始特征值中减去一个数量。对于最小最大缩放, 移动量是当前特征的所有值中最小的。对于标准化, 移动的量是平均值。如果移动量不是零, 则这两种转换可以将稀疏特征（大部分值为零）的向量转换为一个稠密的向量。这反过来会给分类器带来巨大的计算负担, 取决于它是如何实现的。词袋是一种稀疏表示, 大多数分类库都对稀疏输入进行优化。如果现在的表示形式包含了文档中没有出现的每个单词, 那就太可怕了。请谨慎对稀疏特征执行最小最大缩放和标准化操作。\n",
    "\n",
    "### L2 normalization\n",
    "\n",
    "这项技术通过所谓的 L2 范数 (也称为欧几里德范数) 正常化 (划分) 原始特征值。\n",
    "\n",
    "$$\n",
    "\\widetilde{x}=\\frac{x}{\\|x\\|_{2}}\n",
    "$$\n",
    "\n",
    "L2范数度量向量在坐标空间中的长度。这个定义可以从众所周知的勾股定理中得到，给出三角形两边的长度，可以得到斜边长度。\n",
    "\n",
    "$$\n",
    "\\|x\\|_{2}=\\sqrt{x_{1}^{2}+x_{2}^{2}+\\ldots+x_{m}^{2}}\n",
    "$$\n",
    "\n",
    "L2 范数将求特征的各数据点的平方和, 然后取平方根。L2 规范化后, 该特征列具有范数1。它也可以称为 L2 缩放。(不严谨的说, 缩放意味着和常量相乘, 而规范化可能涉及许多操作。）图2-17说明了 L2 规范化。\n",
    "\n",
    "![](images/chapter2/2-17.png)\n",
    "\n",
    "**Figure 2-17. Illustration of L2 feature normalization**\n",
    "\n",
    "## 数据空间与特征空间\n",
    "\n",
    "请注意，图2-17中的说明是在数据空间中，而不是特征空间。还可以对数据点进行L2归一化，而不是特征，这将导致具有单位范数（范数为1）的数据向量。（参见[词袋](https://www.safaribooksonline.com/library/view/feature-engineering-for/9781491953235/ch03.html#sec-bag-of-words)中关于数据向量和特征向量的互补性质的讨论）不管缩放方法如何，特征缩放总是将特征除以常数（也称为归一化常数）。因此，它不会改变单特征分布的形状。我们将用在线新闻文章标记计数来说明这一点。"
   ]
  },
  {
   "cell_type": "markdown",
   "metadata": {},
   "source": [
    "### 例子 2-15。特征缩放示例。"
   ]
  },
  {
   "cell_type": "code",
   "execution_count": null,
   "metadata": {},
   "outputs": [],
   "source": [
    "import pandas as pd\n",
    "import sklearn.preprocessing as preproc\n",
    "\n",
    "# Load the online news popularity dataset\n",
    "df = pd.read_csv('data/OnlineNewsPopularity.csv', delimiter=', ')\n",
    "\n",
    "# Look at the original data - the number of words in an article\n",
    "df['n_tokens_content'].as_matrix()"
   ]
  },
  {
   "cell_type": "code",
   "execution_count": null,
   "metadata": {},
   "outputs": [],
   "source": [
    "# Min-max scaling\n",
    "df['minmax'] = preproc.minmax_scale(df[['n_tokens_content']])\n",
    "df['minmax'].as_matrix()"
   ]
  },
  {
   "cell_type": "code",
   "execution_count": null,
   "metadata": {},
   "outputs": [],
   "source": [
    "# Standardization - note that by definition, some outputs will be negative\n",
    "df['standardized'] = preproc.StandardScaler().fit_transform(df[['n_tokens_content']])\n",
    "df['standardized'].as_matrix()"
   ]
  },
  {
   "cell_type": "code",
   "execution_count": null,
   "metadata": {},
   "outputs": [],
   "source": [
    "# L2-normalization\n",
    "df['l2_normalized'] = preproc.normalize(df[['n_tokens_content']], axis=0)\n",
    "df['l2_normalized'].as_matrix()"
   ]
  },
  {
   "cell_type": "markdown",
   "metadata": {},
   "source": [
    "我们也可以可视化用不同的特征缩放方法后的数据的分布。如图2-18所示，与对数变换不同，特征缩放不会改变分布的形状；只有数据的规模发生变化。"
   ]
  },
  {
   "cell_type": "markdown",
   "metadata": {},
   "source": [
    "### 例2-16。绘制原始数据和缩放数据的直方图。"
   ]
  },
  {
   "cell_type": "code",
   "execution_count": null,
   "metadata": {},
   "outputs": [],
   "source": [
    "fig, (ax1, ax2, ax3, ax4) = plt.subplots(4,1)\n",
    "fig.tight_layout(pad=0, w_pad=1.0, h_pad=2.0)\n",
    "# fig.tight_layout()\n",
    "\n",
    "df['n_tokens_content'].hist(ax=ax1, bins=100)\n",
    "ax1.tick_params(labelsize=14)\n",
    "ax1.set_xlabel('Article word count', fontsize=14)\n",
    "# ax1.set_ylabel('Number of articles', fontsize=14)\n",
    "\n",
    "df['minmax'].hist(ax=ax2, bins=100)\n",
    "ax2.tick_params(labelsize=14)\n",
    "ax2.set_xlabel('Min-max scaled word count', fontsize=14)\n",
    "ax2.set_ylabel('Number of articles', fontsize=14)\n",
    "\n",
    "df['standardized'].hist(ax=ax3, bins=100)\n",
    "ax3.tick_params(labelsize=14)\n",
    "ax3.set_xlabel('Standardized word count', fontsize=14)\n",
    "# ax3.set_ylabel('Number of articles', fontsize=14)\n",
    "\n",
    "df['l2_normalized'].hist(ax=ax4, bins=100)\n",
    "ax4.tick_params(labelsize=14)\n",
    "ax4.set_xlabel('L2-normalized word count', fontsize=14)\n",
    "ax4.set_ylabel('Number of articles', fontsize=14)"
   ]
  },
  {
   "cell_type": "markdown",
   "metadata": {},
   "source": [
    "**Figure 2-18. Original and scaled news article word counts. Note that only the scale of the x-axis changes; the shape of the distribution stays the same with feature scaling.**"
   ]
  },
  {
   "cell_type": "markdown",
   "metadata": {},
   "source": [
    "在一组输入特征在比例上差异很大的情况下，特征缩放非常有用。例如，一个流行的电子商务网站的每日访问者数量可能是十万，而实际销售额可能是几千。如果这两种功能都投入到模型中，那么该模型需要在确定要做什么的同时平衡它们的规模。输入特征的极大变化会导致模型训练算法的数值稳定性问题。在这些情况下，标准化功能是个好主意。第4章将详细介绍处理自然文本时的特征缩放，包括使用示例。\n",
    "\n",
    "## 交互特征\n",
    "\n",
    "简单的成对交互特征是两个特征的积。类似逻辑与。它以成对条件表示结果：“购买来自邮政编码98121”和“用户的年龄在18到35之间”。这一点对基于决策树的模型没有影响，但发交互特征对广义线性模型通常很有帮助。\n",
    "\n",
    "一个简单的线性模型使用单个输入特征线性组合$x_1$，$x_2$，... $x_n$来预测结果$y$\n",
    "\n",
    "$$\n",
    "y=w_{i} x_{l}+w_{2} x_{2}+\\ldots+w_{n} x_{n}\n",
    "$$\n",
    "\n",
    "一个简单的扩展线性模型的方法是包含输入特征对的组合，如下所示：\n",
    "\n",
    "$$\n",
    "y=w_{1} x_{1}+w_{2} x_{2}+\\ldots+w_{n} x_{n}+w_{1,1} x_{1} x_{1}+w_{1,2} x_{1} x_{2}+w_{1,3} x_{1} x_{3}+\\ldots\n",
    "$$\n",
    "\n",
    "这使我们能够捕获特征之间的相互影响，因此它们被称为交互特征。如果$x_1$和$x_2$是二元的，那么它们的积 $x_1x_2$ 是逻辑函数 $x_1\\ AND\\ x_2$ 假设问题是根据他或她的个人资料信息预测客户的偏好。在这种情况下，交互特征不是仅基于用户的年龄或位置进行预测，而交互特征允许模型基于具有特定年龄和特定位置的用户进行预测。\n",
    "\n",
    "在例2-17中，我们使用 UCI 在线新闻数据集中的成对交互特征来预测每篇新闻文章的分享数量。交互特征导致精度超过单身特征。两者都比例2-9表现得更好，它使用文章正文中单词数的单个预测器（有或没有经过对数变换）。"
   ]
  },
  {
   "cell_type": "markdown",
   "metadata": {},
   "source": [
    "### 例 2--17:用于预测的交互特征示例"
   ]
  },
  {
   "cell_type": "code",
   "execution_count": null,
   "metadata": {},
   "outputs": [],
   "source": [
    "from sklearn import linear_model\n",
    "from sklearn.model_selection import train_test_split\n",
    "import sklearn.preprocessing as preproc\n",
    "\n",
    "### Assume df is a Pandas dataframe containing the UCI online news dataset\n",
    "df.columns"
   ]
  },
  {
   "cell_type": "code",
   "execution_count": null,
   "metadata": {},
   "outputs": [],
   "source": [
    "### Select the content-based features as singleton features in the model,\n",
    "### skipping over the derived features\n",
    "features = ['n_tokens_title', 'n_tokens_content',\n",
    "            'n_unique_tokens', 'n_non_stop_words', 'n_non_stop_unique_tokens',\n",
    "            'num_hrefs', 'num_self_hrefs', 'num_imgs', 'num_videos',\n",
    "            'average_token_length', 'num_keywords', 'data_channel_is_lifestyle',\n",
    "            'data_channel_is_entertainment', 'data_channel_is_bus',\n",
    "            'data_channel_is_socmed', 'data_channel_is_tech',\n",
    "            'data_channel_is_world']\n",
    "\n",
    "X = df[features]\n",
    "y = df[['shares']]"
   ]
  },
  {
   "cell_type": "code",
   "execution_count": null,
   "metadata": {},
   "outputs": [],
   "source": [
    "### Create pairwise interaction features, skipping the constant bias term\n",
    "X2 = preproc.PolynomialFeatures(include_bias=False).fit_transform(X)\n",
    "X2.shape"
   ]
  },
  {
   "cell_type": "code",
   "execution_count": null,
   "metadata": {},
   "outputs": [],
   "source": [
    "### Create train/test sets for both feature sets\n",
    "X1_train, X1_test, X2_train, X2_test, y_train, y_test = train_test_split(X, X2, y, test_size=0.3, random_state=123)\n",
    "\n",
    "def evaluate_feature(X_train, X_test, y_train, y_test):\n",
    "#   Fit a linear regression model on the training set and score on the test set\n",
    "    model = linear_model.LinearRegression().fit(X_train, y_train)\n",
    "    r_score = model.score(X_test, y_test)\n",
    "    return (model, r_score)"
   ]
  },
  {
   "cell_type": "code",
   "execution_count": null,
   "metadata": {},
   "outputs": [],
   "source": [
    "### Train models and compare score on the two feature sets\n",
    "(m1, r1) = evaluate_feature(X1_train, X1_test, y_train, y_test)\n",
    "(m2, r2) = evaluate_feature(X2_train, X2_test, y_train, y_test)\n",
    "print(\"R-squared score with singleton features: %0.5f\" % r1)\n",
    "print(\"R-squared score with pairwise features: %0.10f\" % r2)"
   ]
  },
  {
   "cell_type": "markdown",
   "metadata": {},
   "source": [
    "\n",
    "构造交互特征非常简单，但它们使用起来很昂贵。使用成对交互特征的线性模型的训练和得分时间将从$O(n)$到$O(n^2)$，其中$n$是单身特征的数量。\n",
    "\n",
    "围绕高阶交互特征的计算成本有几种方法。可以在所有交互特征之上执行特征选择，选择前几个。或者，可以更仔细地制作更少数量的复杂特征。两种策略都有其优点和缺点。特征选择采用计算手段来选择问题的最佳特征。（这种技术不限于交互特征。）一些特征选择技术仍然需要训练多个具有大量特征的模型。\n",
    "\n",
    "\n",
    "手工制作的复杂特征可以具有足够的表现力，所以只需要少量这些特征，这可以缩短模型的训练时间。但是特征本身的计算可能很昂贵，这增加了模型评分阶段的计算成本。手工制作（或机器学习）的复杂特征的好例子可以在第8章有关图像特征中找到。现在让我们看看一些特征选择技巧。\n",
    "\n",
    "## 特征选择\n",
    "\n",
    "特征选择技术会删除非有用的特征，以降低最终模型的复杂性。最终目标是快速计算的简约模型，预测准确性降低很小或不会降低。为了得到这样的模型，一些特征选择技术需要训练多个候选模型。换句话说，特征选择并不是减少训练时间，实际上有些技巧增加了整体训练时间，但是减少了模型评分时间。\n",
    "\n",
    "粗略地说，特征选择技术分为三类。\n",
    "\n",
    "- Filtering（过滤）: 预处理可以删除那些不太可能对模型有用的特征。例如，可以计算每个特征与响应变量之间的相关或相互信息，并筛除相关信息或相互信息低于阈值的特征。第3章讨论了文本特征的过滤技术的例子。过滤比下面的包装（wrapper）技术便宜得多，但是他们没有考虑到正在使用的模型。因此他们可能无法为模型选择正确的特征。最好先保守地进行预过滤，以免在进行模型训练步骤之前无意中消除有用的特征。\n",
    "\n",
    "- Wrapper methods（包装方法）：这些技术是昂贵的，但它们允许您尝试特征子集，这意味着你不会意外删除自身无法提供信息但在组合使用时非常有用的特征。包装方法将模型视为提供特征子集质量分数的黑盒子。shi一个独立的方法迭代地改进子集。\n",
    "\n",
    "- Embedded methods（嵌入式方法）：嵌入式方法执行特征选择作为模型训练过程的一部分。 例如，决策树固有地执行特征选择，因为它在每个训练步骤选择一个要在其上进行树分裂的特征。另一个例子是$L1$正则，它可以添加到任何线性模型的训练目标中。$L1$鼓励模型使用一些特征而不是许多特征。因此它也被称为模型的稀疏约束。嵌入式方法将特征选择作为模型训练过程的一部分。它们不如包装方法那么强大，但也远不如包装方法那么昂贵。与过滤相比，嵌入式方法会选择特定于模型的特征。从这个意义上讲，嵌入式方法在计算费用和结果质量之间取得平衡。\n",
    "\n",
    "特征选择的全面处理超出了本书的范围。有兴趣的读者可以参考 Isabelle Guyon 和 André Elisseeff 撰写的调查报告“变量和特征选择介绍”（“An Introduction to Variable and Feature Selection”）。\n",
    "\n",
    "## 总结\n",
    "\n",
    "本章讨论了许多常见的数字特征工程技术：量化，缩放（又称规范化），对数变换（一种功率变换），交互特征以及处理大量交互特征所需的特征选择技术的简要总结。在统计机器学习中，所有数据最终归结为数字特征。因此，所有道路最终都会指向某种数字特征工程技术。为了结束特征工程这个游戏，保证这些工具方便使用！\n",
    "\n",
    "\n",
    "## 参考书目\n",
    "\n",
    "Guyon, Isabell, and André Elisseeff. 2003. Journal of Machine Learning Research Special Issue on Variable and Feature Selection. 3(Mar):1157--1182.\n",
    "\n",
    "Johnston, Jack, and John DiNardo. 1997. Econometric Methods (Fourth Edition). New York: McGraw Hill."
   ]
  }
 ],
 "metadata": {
  "kernelspec": {
   "display_name": "Python 3",
   "language": "python",
   "name": "python3"
  },
  "language_info": {
   "codemirror_mode": {
    "name": "ipython",
    "version": 3
   },
   "file_extension": ".py",
   "mimetype": "text/x-python",
   "name": "python",
   "nbconvert_exporter": "python",
   "pygments_lexer": "ipython3",
   "version": "3.6.4"
  }
 },
 "nbformat": 4,
 "nbformat_minor": 2
}