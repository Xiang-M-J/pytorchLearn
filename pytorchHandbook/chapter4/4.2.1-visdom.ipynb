{
 "cells": [
  {
   "cell_type": "code",
   "execution_count": 1,
   "metadata": {},
   "outputs": [
    {
     "data": {
      "text/plain": "'1.10.0+cpu'"
     },
     "execution_count": 1,
     "metadata": {},
     "output_type": "execute_result"
    }
   ],
   "source": [
    "import torch\n",
    "import math\n",
    "import numpy as np\n",
    "from visdom import Visdom\n",
    "import time\n",
    "torch.__version__"
   ]
  },
  {
   "cell_type": "markdown",
   "metadata": {},
   "source": [
    "# 4.2.1 使用Visdom在 PyTorch 中进行可视化\n",
    "Visdom是Facebook在2017年发布的一款针对PyTorch的可视化工具。[官网](https://github.com/facebookresearch/visdom),visdom由于其功能简单，一般会被定义为服务器端的matplot，也就是说我们可以直接使用python的控制台模式进行开发并在服务器上执行，将一些可视化的数据传送到Visdom服务上，通过Visdom服务进行可视化"
   ]
  },
  {
   "cell_type": "markdown",
   "metadata": {},
   "source": [
    "## 安装\n",
    "Visdom的安装很简单，直接使用命令`pip install visdom`安装即可。\n",
    "在安装完成后，使用命令`python -m visdom.server` 在本地启动服务器，启动后会提示`It's Alive! You can navigate to http://localhost:8097` 这就说明服务已经可用，我们打开浏览器，输入`http://localhost:8097` 即可看到页面。\n",
    "\n",
    "端口8097是默认的端口可以在启动命令后加 `-port`参数指定端口，常用的参数还有 `--hostname`，`-base_url`等"
   ]
  },
  {
   "cell_type": "markdown",
   "metadata": {},
   "source": [
    "## 坑\n",
    "Visdom的服务在启动时会自动下载一些静态文件，这里坑就来了，因为某些无法描述的原因，导致下载会失败，比如类似这样的提示 `ERROR:root:Error 404 while downloading https://unpkg.com/layout-bin-packer@1.4.0` 就说明静态文件没有下载完全，这样有可能就会打不开或者页面中没有菜单栏，那么需要手动进行下载，这里我打包了一份正常的静态文件，直接复制到`Lib\\site-packages\\visdom`中即可。\n",
    "\n",
    "如果不知道conda的环境目录在哪里，可以使用`conda env list` 查看\n",
    "\n",
    "感谢CSDN的伙伴提供的缺失文件，原文[这里](https://blog.csdn.net/qq_36941368/article/details/82288154)"
   ]
  },
  {
   "cell_type": "markdown",
   "metadata": {},
   "source": [
    "## 基本概念\n",
    "### Environments\n",
    "Environments的作用是对可视化区域进行分区，每个用户都会有一个叫做main的默认分区，如图所示:\n",
    "![](data:image/png;base64,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)\n",
    "在程序指定的情况下，默认的图表都会放到这里面"
   ]
  },
  {
   "cell_type": "markdown",
   "metadata": {},
   "source": [
    "## Panes\n",
    "Panes是作为每一个可视化图表的容器，可以使用生成的图表，图片，文本进行填充，我们可以对Panes进行拖放，删除，调整大小和销毁等操作：\n",
    "![](data:image/png;base64,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)\n",
    "Panes和Environments是一对多的关系，即一个Environments可以包含多个Panes\n"
   ]
  },
  {
   "cell_type": "markdown",
   "metadata": {},
   "source": [
    "### VIEW\n",
    "在对Panes进行调整后，可以通过VIEW对状态进行管理：\n",
    "![](data:image/png;base64,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)"
   ]
  },
  {
   "cell_type": "markdown",
   "metadata": {},
   "source": [
    "## 可视化接口\n",
    "Visdom是由Plotly 提供的可视化支持，所以提供一下可视化的接口:\n",
    "- vis.scatter : 2D 或 3D 散点图\n",
    "- vis.line : 线图\n",
    "- vis.stem : 茎叶图\n",
    "- vis.heatmap : 热力图\n",
    "- vis.bar : 条形图\n",
    "- vis.histogram: 直方图\n",
    "- vis.boxplot : 箱型图\n",
    "- vis.surf : 表面图\n",
    "- vis.contour : 轮廓图\n",
    "- vis.quiver : 绘出二维矢量场\n",
    "- vis.image : 图片\n",
    "- vis.text : 文本\n",
    "- vis.mesh : 网格图\n",
    "- vis.save : 序列化状态"
   ]
  },
  {
   "cell_type": "markdown",
   "metadata": {},
   "source": [
    "## 使用\n",
    "### 绘制简单的图形\n",
    "这里我们使用官方的DEMO来做样例"
   ]
  },
  {
   "cell_type": "code",
   "execution_count": 2,
   "metadata": {},
   "outputs": [
    {
     "name": "stderr",
     "output_type": "stream",
     "text": [
      "Setting up a new session...\n"
     ]
    },
    {
     "name": "stdout",
     "output_type": "stream",
     "text": [
      "Exception in user code:\n",
      "------------------------------------------------------------\n"
     ]
    },
    {
     "name": "stderr",
     "output_type": "stream",
     "text": [
      "Traceback (most recent call last):\n",
      "  File \"d:\\pyprojectin\\pytorch\\venv\\lib\\site-packages\\urllib3\\connection.py\", line 174, in _new_conn\n",
      "    conn = connection.create_connection(\n",
      "  File \"d:\\pyprojectin\\pytorch\\venv\\lib\\site-packages\\urllib3\\util\\connection.py\", line 96, in create_connection\n",
      "    raise err\n",
      "  File \"d:\\pyprojectin\\pytorch\\venv\\lib\\site-packages\\urllib3\\util\\connection.py\", line 86, in create_connection\n",
      "    sock.connect(sa)\n",
      "ConnectionRefusedError: [WinError 10061] 由于目标计算机积极拒绝，无法连接。\n",
      "\n",
      "During handling of the above exception, another exception occurred:\n",
      "\n",
      "Traceback (most recent call last):\n",
      "  File \"d:\\pyprojectin\\pytorch\\venv\\lib\\site-packages\\urllib3\\connectionpool.py\", line 699, in urlopen\n",
      "    httplib_response = self._make_request(\n",
      "  File \"d:\\pyprojectin\\pytorch\\venv\\lib\\site-packages\\urllib3\\connectionpool.py\", line 394, in _make_request\n",
      "    conn.request(method, url, **httplib_request_kw)\n",
      "  File \"d:\\pyprojectin\\pytorch\\venv\\lib\\site-packages\\urllib3\\connection.py\", line 239, in request\n",
      "    super(HTTPConnection, self).request(method, url, body=body, headers=headers)\n",
      "  File \"D:\\python3.9.2\\lib\\http\\client.py\", line 1253, in request\n",
      "    self._send_request(method, url, body, headers, encode_chunked)\n",
      "  File \"D:\\python3.9.2\\lib\\http\\client.py\", line 1299, in _send_request\n",
      "    self.endheaders(body, encode_chunked=encode_chunked)\n",
      "  File \"D:\\python3.9.2\\lib\\http\\client.py\", line 1248, in endheaders\n",
      "    self._send_output(message_body, encode_chunked=encode_chunked)\n",
      "  File \"D:\\python3.9.2\\lib\\http\\client.py\", line 1008, in _send_output\n",
      "    self.send(msg)\n",
      "  File \"D:\\python3.9.2\\lib\\http\\client.py\", line 948, in send\n",
      "    self.connect()\n",
      "  File \"d:\\pyprojectin\\pytorch\\venv\\lib\\site-packages\\urllib3\\connection.py\", line 205, in connect\n",
      "    conn = self._new_conn()\n",
      "  File \"d:\\pyprojectin\\pytorch\\venv\\lib\\site-packages\\urllib3\\connection.py\", line 186, in _new_conn\n",
      "    raise NewConnectionError(\n",
      "urllib3.exceptions.NewConnectionError: <urllib3.connection.HTTPConnection object at 0x000001F70C5C5CD0>: Failed to establish a new connection: [WinError 10061] 由于目标计算机积极拒绝，无法连接。\n",
      "\n",
      "During handling of the above exception, another exception occurred:\n",
      "\n",
      "Traceback (most recent call last):\n",
      "  File \"d:\\pyprojectin\\pytorch\\venv\\lib\\site-packages\\requests\\adapters.py\", line 439, in send\n",
      "    resp = conn.urlopen(\n",
      "  File \"d:\\pyprojectin\\pytorch\\venv\\lib\\site-packages\\urllib3\\connectionpool.py\", line 755, in urlopen\n",
      "    retries = retries.increment(\n",
      "  File \"d:\\pyprojectin\\pytorch\\venv\\lib\\site-packages\\urllib3\\util\\retry.py\", line 574, in increment\n",
      "    raise MaxRetryError(_pool, url, error or ResponseError(cause))\n",
      "urllib3.exceptions.MaxRetryError: HTTPConnectionPool(host='localhost', port=8097): Max retries exceeded with url: /env/main (Caused by NewConnectionError('<urllib3.connection.HTTPConnection object at 0x000001F70C5C5CD0>: Failed to establish a new connection: [WinError 10061] 由于目标计算机积极拒绝，无法连接。'))\n",
      "\n",
      "During handling of the above exception, another exception occurred:\n",
      "\n",
      "Traceback (most recent call last):\n",
      "  File \"d:\\pyprojectin\\pytorch\\venv\\lib\\site-packages\\visdom\\__init__.py\", line 708, in _send\n",
      "    return self._handle_post(\n",
      "  File \"d:\\pyprojectin\\pytorch\\venv\\lib\\site-packages\\visdom\\__init__.py\", line 677, in _handle_post\n",
      "    r = self.session.post(url, data=data)\n",
      "  File \"d:\\pyprojectin\\pytorch\\venv\\lib\\site-packages\\requests\\sessions.py\", line 590, in post\n",
      "    return self.request('POST', url, data=data, json=json, **kwargs)\n",
      "  File \"d:\\pyprojectin\\pytorch\\venv\\lib\\site-packages\\requests\\sessions.py\", line 542, in request\n",
      "    resp = self.send(prep, **send_kwargs)\n",
      "  File \"d:\\pyprojectin\\pytorch\\venv\\lib\\site-packages\\requests\\sessions.py\", line 655, in send\n",
      "    r = adapter.send(request, **kwargs)\n",
      "  File \"d:\\pyprojectin\\pytorch\\venv\\lib\\site-packages\\requests\\adapters.py\", line 516, in send\n",
      "    raise ConnectionError(e, request=request)\n",
      "requests.exceptions.ConnectionError: HTTPConnectionPool(host='localhost', port=8097): Max retries exceeded with url: /env/main (Caused by NewConnectionError('<urllib3.connection.HTTPConnection object at 0x000001F70C5C5CD0>: Failed to establish a new connection: [WinError 10061] 由于目标计算机积极拒绝，无法连接。'))\n",
      "[WinError 10061] 由于目标计算机积极拒绝，无法连接。\n",
      "on_close() takes 1 positional argument but 3 were given\n",
      "Visdom python client failed to establish socket to get messages from the server. This feature is optional and can be disabled by initializing Visdom with `use_incoming_socket=False`, which will prevent waiting for this request to timeout.\n"
     ]
    },
    {
     "ename": "AssertionError",
     "evalue": "",
     "output_type": "error",
     "traceback": [
      "\u001B[1;31m---------------------------------------------------------------------------\u001B[0m",
      "\u001B[1;31mAssertionError\u001B[0m                            Traceback (most recent call last)",
      "\u001B[1;32m~\\AppData\\Local\\Temp/ipykernel_8396/3419837956.py\u001B[0m in \u001B[0;36m<module>\u001B[1;34m\u001B[0m\n\u001B[0;32m      1\u001B[0m \u001B[0menv\u001B[0m \u001B[1;33m=\u001B[0m \u001B[0mVisdom\u001B[0m\u001B[1;33m(\u001B[0m\u001B[1;33m)\u001B[0m\u001B[1;33m\u001B[0m\u001B[1;33m\u001B[0m\u001B[0m\n\u001B[1;32m----> 2\u001B[1;33m \u001B[1;32massert\u001B[0m \u001B[0menv\u001B[0m\u001B[1;33m.\u001B[0m\u001B[0mcheck_connection\u001B[0m\u001B[1;33m(\u001B[0m\u001B[1;33m)\u001B[0m \u001B[1;31m#测试一下链接，链接错误的话会报错\u001B[0m\u001B[1;33m\u001B[0m\u001B[1;33m\u001B[0m\u001B[0m\n\u001B[0m\u001B[0;32m      3\u001B[0m \u001B[1;33m\u001B[0m\u001B[0m\n",
      "\u001B[1;31mAssertionError\u001B[0m: "
     ]
    }
   ],
   "source": [
    "env = Visdom() \n",
    "assert env.check_connection() #测试一下链接，链接错误的话会报错"
   ]
  },
  {
   "cell_type": "markdown",
   "metadata": {},
   "source": [
    "这里生成sin和cos两条曲线数据"
   ]
  },
  {
   "cell_type": "code",
   "execution_count": null,
   "metadata": {},
   "outputs": [],
   "source": [
    "Y = np.linspace(0, 2 * math.pi, 70)\n",
    "X = np.column_stack((np.sin(Y), np.cos(Y)))"
   ]
  },
  {
   "cell_type": "markdown",
   "metadata": {},
   "source": [
    "使用茎叶图展示"
   ]
  },
  {
   "cell_type": "code",
   "execution_count": null,
   "metadata": {
    "scrolled": true
   },
   "outputs": [],
   "source": [
    "env.stem(\n",
    "        X=X,\n",
    "        Y=Y,\n",
    "        opts=dict(legend=['Sine', 'Cosine'])\n",
    "    )"
   ]
  },
  {
   "cell_type": "markdown",
   "metadata": {},
   "source": [
    "可以通过env参数指定Environments，如果名称包含了下划线`_`那么visdom会跟根据下划线分割并自动分组"
   ]
  },
  {
   "cell_type": "code",
   "execution_count": null,
   "metadata": {
    "scrolled": true
   },
   "outputs": [],
   "source": [
    "envtest = Visdom(env='test_mesh')\n",
    "assert envtest.check_connection()"
   ]
  },
  {
   "cell_type": "markdown",
   "metadata": {},
   "source": [
    "生成一个网格图"
   ]
  },
  {
   "cell_type": "code",
   "execution_count": null,
   "metadata": {},
   "outputs": [],
   "source": [
    "x = [0, 0, 1, 1, 0, 0, 1, 1]\n",
    "y = [0, 1, 1, 0, 0, 1, 1, 0]\n",
    "z = [0, 0, 0, 0, 1, 1, 1, 1]\n",
    "X = np.c_[x, y, z]\n",
    "i = [7, 0, 0, 0, 4, 4, 6, 6, 4, 0, 3, 2]\n",
    "j = [3, 4, 1, 2, 5, 6, 5, 2, 0, 1, 6, 3]\n",
    "k = [0, 7, 2, 3, 6, 7, 1, 1, 5, 5, 7, 6]\n",
    "Y = np.c_[i, j, k]\n",
    "envtest.mesh(X=X, Y=Y, opts=dict(opacity=0.5))"
   ]
  },
  {
   "cell_type": "markdown",
   "metadata": {},
   "source": [
    "## 更新损失函数"
   ]
  },
  {
   "cell_type": "markdown",
   "metadata": {},
   "source": [
    "在训练的时候我们每一批次都会打印一下训练的损失和测试的准确率，这样展示的图表是需要动态增加数据的，下面我们来模拟一下这种情况"
   ]
  },
  {
   "cell_type": "code",
   "execution_count": null,
   "metadata": {},
   "outputs": [],
   "source": [
    "x,y=0,0\n",
    "env2 = Visdom()\n",
    "pane1= env2.line(\n",
    "    X=np.array([x]),\n",
    "    Y=np.array([y]),\n",
    "    opts=dict(title='dynamic data'))"
   ]
  },
  {
   "cell_type": "code",
   "execution_count": null,
   "metadata": {},
   "outputs": [],
   "source": [
    "for i in range(10):\n",
    "    time.sleep(1) #每隔一秒钟打印一次数据\n",
    "    x+=i\n",
    "    y=(y+i)*1.5\n",
    "    print(x,y)\n",
    "    env2.line(\n",
    "        X=np.array([x]),\n",
    "        Y=np.array([y]),\n",
    "        win=pane1,#win参数确认使用哪一个pane\n",
    "        update='append') #我们做的动作是追加，除了追加意外还有其他方式，这里我们不做介绍了"
   ]
  },
  {
   "cell_type": "markdown",
   "metadata": {},
   "source": [
    "在运行完上述程序时，切换到visdom，看看效果吧\n",
    "\n",
    "visdom的基本用法介绍完毕，下一节介绍更加强大的 tensorboardx"
   ]
  },
  {
   "cell_type": "code",
   "execution_count": null,
   "metadata": {},
   "outputs": [],
   "source": []
  }
 ],
 "metadata": {
  "kernelspec": {
   "name": "python3",
   "language": "python",
   "display_name": "Python 3 (ipykernel)"
  },
  "language_info": {
   "codemirror_mode": {
    "name": "ipython",
    "version": 3
   },
   "file_extension": ".py",
   "mimetype": "text/x-python",
   "name": "python",
   "nbconvert_exporter": "python",
   "pygments_lexer": "ipython3",
   "version": "3.6.7"
  }
 },
 "nbformat": 4,
 "nbformat_minor": 2
}